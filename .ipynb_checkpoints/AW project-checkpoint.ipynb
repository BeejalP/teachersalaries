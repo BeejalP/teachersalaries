{
 "cells": [
  {
   "cell_type": "code",
   "execution_count": 1,
   "id": "2a6c7668-82d9-4dc2-9ea1-db2e3dbbeeb4",
   "metadata": {},
   "outputs": [],
   "source": [
    "import pandas as pd\n",
    "import numpy as np"
   ]
  },
  {
   "cell_type": "code",
   "execution_count": 2,
   "id": "13cd8ed7-71e6-408a-b6da-e63cf1c646e3",
   "metadata": {
    "collapsed": true,
    "jupyter": {
     "outputs_hidden": true,
     "source_hidden": true
    }
   },
   "outputs": [
    {
     "data": {
      "text/html": [
       "<div>\n",
       "<style scoped>\n",
       "    .dataframe tbody tr th:only-of-type {\n",
       "        vertical-align: middle;\n",
       "    }\n",
       "\n",
       "    .dataframe tbody tr th {\n",
       "        vertical-align: top;\n",
       "    }\n",
       "\n",
       "    .dataframe thead th {\n",
       "        text-align: right;\n",
       "    }\n",
       "</style>\n",
       "<table border=\"1\" class=\"dataframe\">\n",
       "  <thead>\n",
       "    <tr style=\"text-align: right;\">\n",
       "      <th></th>\n",
       "      <th>DATAFLOW</th>\n",
       "      <th>LAST UPDATE</th>\n",
       "      <th>freq</th>\n",
       "      <th>unit</th>\n",
       "      <th>sex</th>\n",
       "      <th>isced11</th>\n",
       "      <th>age</th>\n",
       "      <th>geo</th>\n",
       "      <th>TIME_PERIOD</th>\n",
       "      <th>OBS_VALUE</th>\n",
       "      <th>OBS_FLAG</th>\n",
       "      <th>CONF_STATUS</th>\n",
       "    </tr>\n",
       "  </thead>\n",
       "  <tbody>\n",
       "    <tr>\n",
       "      <th>0</th>\n",
       "      <td>ESTAT:EDAT_LFS_9903(1.0)</td>\n",
       "      <td>12/12/24 23:00:00</td>\n",
       "      <td>Annual</td>\n",
       "      <td>Percentage</td>\n",
       "      <td>Females</td>\n",
       "      <td>Less than primary, primary and lower secondary...</td>\n",
       "      <td>From 15 to 19 years</td>\n",
       "      <td>Austria</td>\n",
       "      <td>2004</td>\n",
       "      <td>74.9</td>\n",
       "      <td>NaN</td>\n",
       "      <td>NaN</td>\n",
       "    </tr>\n",
       "    <tr>\n",
       "      <th>1</th>\n",
       "      <td>ESTAT:EDAT_LFS_9903(1.0)</td>\n",
       "      <td>12/12/24 23:00:00</td>\n",
       "      <td>Annual</td>\n",
       "      <td>Percentage</td>\n",
       "      <td>Females</td>\n",
       "      <td>Less than primary, primary and lower secondary...</td>\n",
       "      <td>From 15 to 19 years</td>\n",
       "      <td>Austria</td>\n",
       "      <td>2005</td>\n",
       "      <td>77.1</td>\n",
       "      <td>NaN</td>\n",
       "      <td>NaN</td>\n",
       "    </tr>\n",
       "    <tr>\n",
       "      <th>2</th>\n",
       "      <td>ESTAT:EDAT_LFS_9903(1.0)</td>\n",
       "      <td>12/12/24 23:00:00</td>\n",
       "      <td>Annual</td>\n",
       "      <td>Percentage</td>\n",
       "      <td>Females</td>\n",
       "      <td>Less than primary, primary and lower secondary...</td>\n",
       "      <td>From 15 to 19 years</td>\n",
       "      <td>Austria</td>\n",
       "      <td>2006</td>\n",
       "      <td>81.2</td>\n",
       "      <td>b</td>\n",
       "      <td>NaN</td>\n",
       "    </tr>\n",
       "    <tr>\n",
       "      <th>3</th>\n",
       "      <td>ESTAT:EDAT_LFS_9903(1.0)</td>\n",
       "      <td>12/12/24 23:00:00</td>\n",
       "      <td>Annual</td>\n",
       "      <td>Percentage</td>\n",
       "      <td>Females</td>\n",
       "      <td>Less than primary, primary and lower secondary...</td>\n",
       "      <td>From 15 to 19 years</td>\n",
       "      <td>Austria</td>\n",
       "      <td>2007</td>\n",
       "      <td>82.0</td>\n",
       "      <td>NaN</td>\n",
       "      <td>NaN</td>\n",
       "    </tr>\n",
       "    <tr>\n",
       "      <th>4</th>\n",
       "      <td>ESTAT:EDAT_LFS_9903(1.0)</td>\n",
       "      <td>12/12/24 23:00:00</td>\n",
       "      <td>Annual</td>\n",
       "      <td>Percentage</td>\n",
       "      <td>Females</td>\n",
       "      <td>Less than primary, primary and lower secondary...</td>\n",
       "      <td>From 15 to 19 years</td>\n",
       "      <td>Austria</td>\n",
       "      <td>2008</td>\n",
       "      <td>81.8</td>\n",
       "      <td>NaN</td>\n",
       "      <td>NaN</td>\n",
       "    </tr>\n",
       "  </tbody>\n",
       "</table>\n",
       "</div>"
      ],
      "text/plain": [
       "                   DATAFLOW        LAST UPDATE    freq        unit      sex  \\\n",
       "0  ESTAT:EDAT_LFS_9903(1.0)  12/12/24 23:00:00  Annual  Percentage  Females   \n",
       "1  ESTAT:EDAT_LFS_9903(1.0)  12/12/24 23:00:00  Annual  Percentage  Females   \n",
       "2  ESTAT:EDAT_LFS_9903(1.0)  12/12/24 23:00:00  Annual  Percentage  Females   \n",
       "3  ESTAT:EDAT_LFS_9903(1.0)  12/12/24 23:00:00  Annual  Percentage  Females   \n",
       "4  ESTAT:EDAT_LFS_9903(1.0)  12/12/24 23:00:00  Annual  Percentage  Females   \n",
       "\n",
       "                                             isced11                  age  \\\n",
       "0  Less than primary, primary and lower secondary...  From 15 to 19 years   \n",
       "1  Less than primary, primary and lower secondary...  From 15 to 19 years   \n",
       "2  Less than primary, primary and lower secondary...  From 15 to 19 years   \n",
       "3  Less than primary, primary and lower secondary...  From 15 to 19 years   \n",
       "4  Less than primary, primary and lower secondary...  From 15 to 19 years   \n",
       "\n",
       "       geo  TIME_PERIOD  OBS_VALUE OBS_FLAG  CONF_STATUS  \n",
       "0  Austria         2004       74.9      NaN          NaN  \n",
       "1  Austria         2005       77.1      NaN          NaN  \n",
       "2  Austria         2006       81.2        b          NaN  \n",
       "3  Austria         2007       82.0      NaN          NaN  \n",
       "4  Austria         2008       81.8      NaN          NaN  "
      ]
     },
     "execution_count": 2,
     "metadata": {},
     "output_type": "execute_result"
    }
   ],
   "source": [
    "#Import the data\n",
    "data = pd.read_csv('/Users/beejalparekh/Desktop/Bootcamp/_DA_course/_DA-project_/Datasets/Eurostat/Population by educational attainment level.csv')\n",
    "data.head()"
   ]
  },
  {
   "cell_type": "code",
   "execution_count": 3,
   "id": "3884791d-4ee9-4087-8635-d8818b00dcc7",
   "metadata": {
    "collapsed": true,
    "jupyter": {
     "outputs_hidden": true,
     "source_hidden": true
    }
   },
   "outputs": [
    {
     "data": {
      "text/plain": [
       "(242934, 12)"
      ]
     },
     "execution_count": 3,
     "metadata": {},
     "output_type": "execute_result"
    }
   ],
   "source": [
    "data.shape"
   ]
  },
  {
   "cell_type": "code",
   "execution_count": 4,
   "id": "8e879f12-c5dc-424c-b8d5-1de4e7dc914e",
   "metadata": {
    "collapsed": true,
    "jupyter": {
     "outputs_hidden": true,
     "source_hidden": true
    }
   },
   "outputs": [
    {
     "data": {
      "text/plain": [
       "Index(['DATAFLOW', 'LAST UPDATE', 'freq', 'unit', 'sex', 'isced11', 'age',\n",
       "       'geo', 'TIME_PERIOD', 'OBS_VALUE', 'OBS_FLAG', 'CONF_STATUS'],\n",
       "      dtype='object')"
      ]
     },
     "execution_count": 4,
     "metadata": {},
     "output_type": "execute_result"
    }
   ],
   "source": [
    "data.columns"
   ]
  },
  {
   "cell_type": "code",
   "execution_count": 18,
   "id": "d08cb465-31f2-4981-bdea-40329a455f16",
   "metadata": {
    "collapsed": true,
    "jupyter": {
     "outputs_hidden": true,
     "source_hidden": true
    }
   },
   "outputs": [
    {
     "name": "stdout",
     "output_type": "stream",
     "text": [
      "Number of unique values in each column:\n",
      "DATAFLOW : 1\n",
      "LAST UPDATE : 1\n",
      "freq : 1\n",
      "unit : 1\n",
      "sex : 3\n",
      "isced11 : 6\n",
      "age : 25\n",
      "geo : 38\n",
      "TIME_PERIOD : 20\n",
      "OBS_VALUE : 985\n",
      "OBS_FLAG : 5\n",
      "CONF_STATUS : 0\n"
     ]
    }
   ],
   "source": [
    "# Check the number of unique values in columns \n",
    "print('Number of unique values in each column:')\n",
    "for i in data.columns:\n",
    "    print(i,':', data[i].nunique())"
   ]
  },
  {
   "cell_type": "code",
   "execution_count": 19,
   "id": "8234feee-9b19-4190-86ae-85144dba2a4b",
   "metadata": {
    "jupyter": {
     "source_hidden": true
    }
   },
   "outputs": [],
   "source": [
    "# Delete columns with 0 or 1 unqiue value\n",
    "data = data.loc[:, data.nunique() > 1]"
   ]
  },
  {
   "cell_type": "code",
   "execution_count": 21,
   "id": "c320b54a-1850-4635-b41a-d428a7033663",
   "metadata": {
    "collapsed": true,
    "jupyter": {
     "outputs_hidden": true,
     "source_hidden": true
    }
   },
   "outputs": [
    {
     "data": {
      "text/html": [
       "<div>\n",
       "<style scoped>\n",
       "    .dataframe tbody tr th:only-of-type {\n",
       "        vertical-align: middle;\n",
       "    }\n",
       "\n",
       "    .dataframe tbody tr th {\n",
       "        vertical-align: top;\n",
       "    }\n",
       "\n",
       "    .dataframe thead th {\n",
       "        text-align: right;\n",
       "    }\n",
       "</style>\n",
       "<table border=\"1\" class=\"dataframe\">\n",
       "  <thead>\n",
       "    <tr style=\"text-align: right;\">\n",
       "      <th></th>\n",
       "      <th>sex</th>\n",
       "      <th>isced11</th>\n",
       "      <th>age</th>\n",
       "      <th>geo</th>\n",
       "      <th>TIME_PERIOD</th>\n",
       "      <th>OBS_VALUE</th>\n",
       "      <th>OBS_FLAG</th>\n",
       "    </tr>\n",
       "  </thead>\n",
       "  <tbody>\n",
       "    <tr>\n",
       "      <th>0</th>\n",
       "      <td>Females</td>\n",
       "      <td>Less than primary, primary and lower secondary...</td>\n",
       "      <td>From 15 to 19 years</td>\n",
       "      <td>Austria</td>\n",
       "      <td>2004</td>\n",
       "      <td>74.9</td>\n",
       "      <td>NaN</td>\n",
       "    </tr>\n",
       "    <tr>\n",
       "      <th>1</th>\n",
       "      <td>Females</td>\n",
       "      <td>Less than primary, primary and lower secondary...</td>\n",
       "      <td>From 15 to 19 years</td>\n",
       "      <td>Austria</td>\n",
       "      <td>2005</td>\n",
       "      <td>77.1</td>\n",
       "      <td>NaN</td>\n",
       "    </tr>\n",
       "    <tr>\n",
       "      <th>2</th>\n",
       "      <td>Females</td>\n",
       "      <td>Less than primary, primary and lower secondary...</td>\n",
       "      <td>From 15 to 19 years</td>\n",
       "      <td>Austria</td>\n",
       "      <td>2006</td>\n",
       "      <td>81.2</td>\n",
       "      <td>b</td>\n",
       "    </tr>\n",
       "    <tr>\n",
       "      <th>3</th>\n",
       "      <td>Females</td>\n",
       "      <td>Less than primary, primary and lower secondary...</td>\n",
       "      <td>From 15 to 19 years</td>\n",
       "      <td>Austria</td>\n",
       "      <td>2007</td>\n",
       "      <td>82.0</td>\n",
       "      <td>NaN</td>\n",
       "    </tr>\n",
       "    <tr>\n",
       "      <th>4</th>\n",
       "      <td>Females</td>\n",
       "      <td>Less than primary, primary and lower secondary...</td>\n",
       "      <td>From 15 to 19 years</td>\n",
       "      <td>Austria</td>\n",
       "      <td>2008</td>\n",
       "      <td>81.8</td>\n",
       "      <td>NaN</td>\n",
       "    </tr>\n",
       "  </tbody>\n",
       "</table>\n",
       "</div>"
      ],
      "text/plain": [
       "       sex                                            isced11  \\\n",
       "0  Females  Less than primary, primary and lower secondary...   \n",
       "1  Females  Less than primary, primary and lower secondary...   \n",
       "2  Females  Less than primary, primary and lower secondary...   \n",
       "3  Females  Less than primary, primary and lower secondary...   \n",
       "4  Females  Less than primary, primary and lower secondary...   \n",
       "\n",
       "                   age      geo  TIME_PERIOD  OBS_VALUE OBS_FLAG  \n",
       "0  From 15 to 19 years  Austria         2004       74.9      NaN  \n",
       "1  From 15 to 19 years  Austria         2005       77.1      NaN  \n",
       "2  From 15 to 19 years  Austria         2006       81.2        b  \n",
       "3  From 15 to 19 years  Austria         2007       82.0      NaN  \n",
       "4  From 15 to 19 years  Austria         2008       81.8      NaN  "
      ]
     },
     "execution_count": 21,
     "metadata": {},
     "output_type": "execute_result"
    }
   ],
   "source": [
    "data.head()"
   ]
  },
  {
   "cell_type": "code",
   "execution_count": null,
   "id": "41995aa2-dd2b-48c1-a169-d7727339e3fa",
   "metadata": {},
   "outputs": [],
   "source": []
  }
 ],
 "metadata": {
  "kernelspec": {
   "display_name": "Python 3 (ipykernel)",
   "language": "python",
   "name": "python3"
  },
  "language_info": {
   "codemirror_mode": {
    "name": "ipython",
    "version": 3
   },
   "file_extension": ".py",
   "mimetype": "text/x-python",
   "name": "python",
   "nbconvert_exporter": "python",
   "pygments_lexer": "ipython3",
   "version": "3.12.4"
  }
 },
 "nbformat": 4,
 "nbformat_minor": 5
}
