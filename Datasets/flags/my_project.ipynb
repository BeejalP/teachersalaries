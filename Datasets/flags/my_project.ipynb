{
 "cells": [
  {
   "cell_type": "markdown",
   "id": "a90e5084-09e4-4b1c-a0fd-6c9b4a1a183a",
   "metadata": {},
   "source": [
    "## Exploring the Relationship Between Teacher Salaries, National Average Salaries, and Student Outcomes (PISA Scores) in 2022\n",
    "\n",
    "### Objective:\n",
    "\n",
    "- Investigate how teacher salaries correlate with student performance (PISA scores).\n",
    "- Compare teacher salaries to average national salaries.\n",
    "- Analyse disparities in student outcomes between disadvantaged and advantaged students.\n",
    "- Identify potential trends across different education levels.\n",
    "\n",
    "### Research Questions:\n",
    "\n",
    "- Does higher teacher pay correlate with better student outcomes?\n",
    "- How do teacher salaries compare to national average salaries?\n",
    "- Do teacher salaries impact educational equity (performance gaps between disadvantaged and advantaged students)?"
   ]
  },
  {
   "cell_type": "code",
   "execution_count": 1,
   "id": "bc22bb6f-2d5f-4543-b300-b2ee4f45839b",
   "metadata": {
    "jupyter": {
     "source_hidden": true
    }
   },
   "outputs": [],
   "source": [
    "import pandas as pd\n",
    "import numpy as np\n",
    "import seaborn as sns\n",
    "import matplotlib.pyplot as plt\n",
    "\n",
    "import plotly.graph_objs as go\n",
    "import plotly.express as px\n",
    "\n",
    "import warnings\n",
    "warnings.filterwarnings('ignore')"
   ]
  },
  {
   "cell_type": "code",
   "execution_count": 2,
   "id": "fa79cf22-821b-45d7-845a-c2c17330ddea",
   "metadata": {
    "jupyter": {
     "source_hidden": true
    }
   },
   "outputs": [
    {
     "data": {
      "text/html": [
       "        <script type=\"text/javascript\">\n",
       "        window.PlotlyConfig = {MathJaxConfig: 'local'};\n",
       "        if (window.MathJax && window.MathJax.Hub && window.MathJax.Hub.Config) {window.MathJax.Hub.Config({SVG: {font: \"STIX-Web\"}});}\n",
       "        if (typeof require !== 'undefined') {\n",
       "        require.undef(\"plotly\");\n",
       "        requirejs.config({\n",
       "            paths: {\n",
       "                'plotly': ['https://cdn.plot.ly/plotly-2.34.0.min']\n",
       "            }\n",
       "        });\n",
       "        require(['plotly'], function(Plotly) {\n",
       "            window._Plotly = Plotly;\n",
       "        });\n",
       "        }\n",
       "        </script>\n",
       "        "
      ]
     },
     "metadata": {},
     "output_type": "display_data"
    }
   ],
   "source": [
    "import sys\n",
    "sys.path.insert(0, '/Users/beejalparekh/Desktop/Bootcamp/_DA_course/_functions_/')\n",
    "from functions_eda import *"
   ]
  },
  {
   "cell_type": "markdown",
   "id": "2b49a220-6ae3-49f3-bc89-65bbfdf71d9e",
   "metadata": {},
   "source": [
    "### 1. Load the datasets & check the data"
   ]
  },
  {
   "cell_type": "code",
   "execution_count": 3,
   "id": "0880eabd-41f9-40e9-9b7d-e4e3cf443d69",
   "metadata": {
    "jupyter": {
     "source_hidden": true
    }
   },
   "outputs": [],
   "source": [
    "# Import the data\n",
    "teacher_salaries = pd.read_csv('/Users/beejalparekh/Desktop/Bootcamp/_DA_course/_DA-project_/Datasets/World Populations Review/teacher-salary-by-country-2022.csv')\n",
    "average_salaries = pd.read_csv('/Users/beejalparekh/Desktop/Bootcamp/_DA_course/_DA-project_/Datasets/UNECE/AVG monthly wages.csv')\n",
    "pisa_scores = pd.ExcelFile('/Users/beejalparekh/Desktop/Bootcamp/_DA_course/_DA-project_/Datasets/OECD PISA/PISA mean scores 2022.xlsx')\n",
    "\n",
    "# Raw copies\n",
    "raw_teacher_salaries = teacher_salaries.copy()\n",
    "raw_average_salaries = average_salaries.copy()"
   ]
  },
  {
   "cell_type": "code",
   "execution_count": 4,
   "id": "429aa8a0-2cfd-473e-aadc-0f89199e8b18",
   "metadata": {
    "collapsed": true,
    "jupyter": {
     "outputs_hidden": true,
     "source_hidden": true
    },
    "scrolled": true
   },
   "outputs": [
    {
     "data": {
      "text/html": [
       "<div>\n",
       "<style scoped>\n",
       "    .dataframe tbody tr th:only-of-type {\n",
       "        vertical-align: middle;\n",
       "    }\n",
       "\n",
       "    .dataframe tbody tr th {\n",
       "        vertical-align: top;\n",
       "    }\n",
       "\n",
       "    .dataframe thead th {\n",
       "        text-align: right;\n",
       "    }\n",
       "</style>\n",
       "<table border=\"1\" class=\"dataframe\">\n",
       "  <thead>\n",
       "    <tr style=\"text-align: right;\">\n",
       "      <th></th>\n",
       "      <th>flagCode</th>\n",
       "      <th>country</th>\n",
       "      <th>TeacherSalary_PrimarySchoolTeacherStarting_USD_2022</th>\n",
       "      <th>TeacherSalary_PrimarySchoolTeacherTopOfScale_USD_2022</th>\n",
       "      <th>TeacherSalary_LowerSecondarySchoolTeacherStarting_USD_2022</th>\n",
       "      <th>TeacherSalary_LowerSecondarySchoolTeacherTopOfScale_USD_2022</th>\n",
       "      <th>TeacherSalary_UpperSecondarySchoolTeacherStarting_USD_2022</th>\n",
       "      <th>TeacherSalary_UpperSecondarySchoolTeacherTopOfScale_USD_2022</th>\n",
       "    </tr>\n",
       "  </thead>\n",
       "  <tbody>\n",
       "    <tr>\n",
       "      <th>0</th>\n",
       "      <td>LU</td>\n",
       "      <td>Luxembourg</td>\n",
       "      <td>71647</td>\n",
       "      <td>126576.0</td>\n",
       "      <td>81200</td>\n",
       "      <td>141144.0</td>\n",
       "      <td>81200</td>\n",
       "      <td>141144.0</td>\n",
       "    </tr>\n",
       "    <tr>\n",
       "      <th>1</th>\n",
       "      <td>DE</td>\n",
       "      <td>Germany</td>\n",
       "      <td>70419</td>\n",
       "      <td>91713.0</td>\n",
       "      <td>77905</td>\n",
       "      <td>101510.0</td>\n",
       "      <td>81141</td>\n",
       "      <td>110694.0</td>\n",
       "    </tr>\n",
       "    <tr>\n",
       "      <th>2</th>\n",
       "      <td>DK</td>\n",
       "      <td>Denmark</td>\n",
       "      <td>53364</td>\n",
       "      <td>61473.0</td>\n",
       "      <td>53598</td>\n",
       "      <td>61968.0</td>\n",
       "      <td>50444</td>\n",
       "      <td>65555.0</td>\n",
       "    </tr>\n",
       "    <tr>\n",
       "      <th>3</th>\n",
       "      <td>AT</td>\n",
       "      <td>Austria</td>\n",
       "      <td>49646</td>\n",
       "      <td>86526.0</td>\n",
       "      <td>49646</td>\n",
       "      <td>92041.0</td>\n",
       "      <td>49646</td>\n",
       "      <td>102120.0</td>\n",
       "    </tr>\n",
       "    <tr>\n",
       "      <th>4</th>\n",
       "      <td>NL</td>\n",
       "      <td>Netherlands</td>\n",
       "      <td>48805</td>\n",
       "      <td>99715.0</td>\n",
       "      <td>48662</td>\n",
       "      <td>99717.0</td>\n",
       "      <td>48662</td>\n",
       "      <td>99717.0</td>\n",
       "    </tr>\n",
       "  </tbody>\n",
       "</table>\n",
       "</div>"
      ],
      "text/plain": [
       "  flagCode      country  TeacherSalary_PrimarySchoolTeacherStarting_USD_2022  \\\n",
       "0       LU   Luxembourg                                              71647     \n",
       "1       DE      Germany                                              70419     \n",
       "2       DK      Denmark                                              53364     \n",
       "3       AT      Austria                                              49646     \n",
       "4       NL  Netherlands                                              48805     \n",
       "\n",
       "   TeacherSalary_PrimarySchoolTeacherTopOfScale_USD_2022  \\\n",
       "0                                           126576.0       \n",
       "1                                            91713.0       \n",
       "2                                            61473.0       \n",
       "3                                            86526.0       \n",
       "4                                            99715.0       \n",
       "\n",
       "   TeacherSalary_LowerSecondarySchoolTeacherStarting_USD_2022  \\\n",
       "0                                              81200            \n",
       "1                                              77905            \n",
       "2                                              53598            \n",
       "3                                              49646            \n",
       "4                                              48662            \n",
       "\n",
       "   TeacherSalary_LowerSecondarySchoolTeacherTopOfScale_USD_2022  \\\n",
       "0                                           141144.0              \n",
       "1                                           101510.0              \n",
       "2                                            61968.0              \n",
       "3                                            92041.0              \n",
       "4                                            99717.0              \n",
       "\n",
       "   TeacherSalary_UpperSecondarySchoolTeacherStarting_USD_2022  \\\n",
       "0                                              81200            \n",
       "1                                              81141            \n",
       "2                                              50444            \n",
       "3                                              49646            \n",
       "4                                              48662            \n",
       "\n",
       "   TeacherSalary_UpperSecondarySchoolTeacherTopOfScale_USD_2022  \n",
       "0                                           141144.0             \n",
       "1                                           110694.0             \n",
       "2                                            65555.0             \n",
       "3                                           102120.0             \n",
       "4                                            99717.0             "
      ]
     },
     "execution_count": 4,
     "metadata": {},
     "output_type": "execute_result"
    }
   ],
   "source": [
    "teacher_salaries.head()"
   ]
  },
  {
   "cell_type": "code",
   "execution_count": 5,
   "id": "43d697bf-8d99-42eb-85c1-33ff9a07a588",
   "metadata": {
    "collapsed": true,
    "jupyter": {
     "outputs_hidden": true,
     "source_hidden": true
    }
   },
   "outputs": [
    {
     "data": {
      "text/html": [
       "<div>\n",
       "<style scoped>\n",
       "    .dataframe tbody tr th:only-of-type {\n",
       "        vertical-align: middle;\n",
       "    }\n",
       "\n",
       "    .dataframe tbody tr th {\n",
       "        vertical-align: top;\n",
       "    }\n",
       "\n",
       "    .dataframe thead th {\n",
       "        text-align: right;\n",
       "    }\n",
       "</style>\n",
       "<table border=\"1\" class=\"dataframe\">\n",
       "  <thead>\n",
       "    <tr style=\"text-align: right;\">\n",
       "      <th></th>\n",
       "      <th>Indicator</th>\n",
       "      <th>Country</th>\n",
       "      <th>2018</th>\n",
       "      <th>2019</th>\n",
       "      <th>2020</th>\n",
       "      <th>2021</th>\n",
       "      <th>2022</th>\n",
       "    </tr>\n",
       "  </thead>\n",
       "  <tbody>\n",
       "    <tr>\n",
       "      <th>0</th>\n",
       "      <td>US$, at current Exchange Rates</td>\n",
       "      <td>Albania</td>\n",
       "      <td>468.5</td>\n",
       "      <td>476.8</td>\n",
       "      <td>493.9</td>\n",
       "      <td>552.5</td>\n",
       "      <td>547.6</td>\n",
       "    </tr>\n",
       "    <tr>\n",
       "      <th>1</th>\n",
       "      <td>US$, at current Exchange Rates</td>\n",
       "      <td>Andorra</td>\n",
       "      <td>..</td>\n",
       "      <td>..</td>\n",
       "      <td>..</td>\n",
       "      <td>..</td>\n",
       "      <td>..</td>\n",
       "    </tr>\n",
       "    <tr>\n",
       "      <th>2</th>\n",
       "      <td>US$, at current Exchange Rates</td>\n",
       "      <td>Armenia</td>\n",
       "      <td>357.6</td>\n",
       "      <td>380.2</td>\n",
       "      <td>388.0</td>\n",
       "      <td>405.0</td>\n",
       "      <td>540.7</td>\n",
       "    </tr>\n",
       "    <tr>\n",
       "      <th>3</th>\n",
       "      <td>US$, at current Exchange Rates</td>\n",
       "      <td>Austria</td>\n",
       "      <td>4287.6</td>\n",
       "      <td>4171.7</td>\n",
       "      <td>4310.9</td>\n",
       "      <td>4639.7</td>\n",
       "      <td>4326.3</td>\n",
       "    </tr>\n",
       "    <tr>\n",
       "      <th>4</th>\n",
       "      <td>US$, at current Exchange Rates</td>\n",
       "      <td>Azerbaijan</td>\n",
       "      <td>320.4</td>\n",
       "      <td>373.6</td>\n",
       "      <td>416.3</td>\n",
       "      <td>430.6</td>\n",
       "      <td>494.1</td>\n",
       "    </tr>\n",
       "  </tbody>\n",
       "</table>\n",
       "</div>"
      ],
      "text/plain": [
       "                        Indicator     Country    2018    2019    2020    2021  \\\n",
       "0  US$, at current Exchange Rates     Albania   468.5   476.8   493.9   552.5   \n",
       "1  US$, at current Exchange Rates     Andorra      ..      ..      ..      ..   \n",
       "2  US$, at current Exchange Rates     Armenia   357.6   380.2   388.0   405.0   \n",
       "3  US$, at current Exchange Rates     Austria  4287.6  4171.7  4310.9  4639.7   \n",
       "4  US$, at current Exchange Rates  Azerbaijan   320.4   373.6   416.3   430.6   \n",
       "\n",
       "     2022  \n",
       "0   547.6  \n",
       "1      ..  \n",
       "2   540.7  \n",
       "3  4326.3  \n",
       "4   494.1  "
      ]
     },
     "execution_count": 5,
     "metadata": {},
     "output_type": "execute_result"
    }
   ],
   "source": [
    "average_salaries.head()"
   ]
  },
  {
   "cell_type": "code",
   "execution_count": 6,
   "id": "4c031f82-cc7d-4cf6-9d8a-8b3ae5710bb4",
   "metadata": {
    "jupyter": {
     "source_hidden": true
    }
   },
   "outputs": [],
   "source": [
    "# Extract tabs from PISA excel\n",
    "file_path = '/Users/beejalparekh/Desktop/Bootcamp/_DA_course/_DA-project_/Datasets/OECD PISA/PISA mean scores 2022.xlsx'\n",
    "# Table I.1 Snapshot of performance in mathematics, reading and science\n",
    "pisa_mean_scores = pd.read_excel(file_path, sheet_name=1)\n",
    "# Table I.2 Snapshot of socio-economic disparities in academic performance\n",
    "pisa_socio_economic = pd.read_excel(file_path, sheet_name=2)\n",
    "# Table I.3 Snapshot of gender gaps in performance\n",
    "pisa_gender = pd.read_excel(file_path, sheet_name=3)\n",
    "# Table I.4 Snapshot of immigrant students\n",
    "pisa_immigrants = pd.read_excel(file_path, sheet_name=4)"
   ]
  },
  {
   "cell_type": "markdown",
   "id": "6af014b9-0a40-4b54-ba91-f6330795a769",
   "metadata": {
    "collapsed": true,
    "jupyter": {
     "outputs_hidden": true
    }
   },
   "source": [
    "Clean up pisa mean scores dataframe - get rid of empty rows and columns"
   ]
  },
  {
   "cell_type": "code",
   "execution_count": 7,
   "id": "60b16298-c3cb-45b6-85d5-2334b1d5b605",
   "metadata": {
    "jupyter": {
     "source_hidden": true
    }
   },
   "outputs": [],
   "source": [
    "# Set row 14 (index 13) as the header\n",
    "pisa_mean_scores.columns = pisa_mean_scores.iloc[13]  # Assign row 14 as column headers\n",
    "pisa_mean_scores = pisa_mean_scores[14:].reset_index(drop=True)  # Remove the old header row"
   ]
  },
  {
   "cell_type": "code",
   "execution_count": 8,
   "id": "d1d2d672-0d51-4fb1-9757-5ce04649e601",
   "metadata": {
    "jupyter": {
     "source_hidden": true
    }
   },
   "outputs": [],
   "source": [
    "pisa_mean_scores = pisa_mean_scores.iloc[:, :4]"
   ]
  },
  {
   "cell_type": "code",
   "execution_count": 9,
   "id": "ea4b8618-f8fc-4062-8fa6-5b0218b4acd9",
   "metadata": {
    "jupyter": {
     "source_hidden": true
    }
   },
   "outputs": [],
   "source": [
    "#Set row 1 as header\n",
    "pisa_mean_scores.columns = pisa_mean_scores.iloc[0]  # Assign row 14 as column headers\n",
    "pisa_mean_scores = pisa_mean_scores[2:].reset_index(drop=True)  # Remove the old header row and row 1"
   ]
  },
  {
   "cell_type": "code",
   "execution_count": 10,
   "id": "8419e215-4cd3-4c6c-b126-d0c74a023aa2",
   "metadata": {
    "jupyter": {
     "source_hidden": true
    }
   },
   "outputs": [],
   "source": [
    "pisa_mean_scores.columns = pisa_mean_scores.columns.fillna('Country')\n",
    "pisa_mean_scores = pisa_mean_scores.iloc[1:].reset_index(drop=True)"
   ]
  },
  {
   "cell_type": "code",
   "execution_count": 11,
   "id": "caec7adc-9015-4428-98eb-d33227e64c7f",
   "metadata": {
    "collapsed": true,
    "jupyter": {
     "outputs_hidden": true,
     "source_hidden": true
    },
    "scrolled": true
   },
   "outputs": [
    {
     "data": {
      "text/html": [
       "<div>\n",
       "<style scoped>\n",
       "    .dataframe tbody tr th:only-of-type {\n",
       "        vertical-align: middle;\n",
       "    }\n",
       "\n",
       "    .dataframe tbody tr th {\n",
       "        vertical-align: top;\n",
       "    }\n",
       "\n",
       "    .dataframe thead th {\n",
       "        text-align: right;\n",
       "    }\n",
       "</style>\n",
       "<table border=\"1\" class=\"dataframe\">\n",
       "  <thead>\n",
       "    <tr style=\"text-align: right;\">\n",
       "      <th></th>\n",
       "      <th>Country</th>\n",
       "      <th>Mathematics</th>\n",
       "      <th>Reading</th>\n",
       "      <th>Science</th>\n",
       "    </tr>\n",
       "  </thead>\n",
       "  <tbody>\n",
       "    <tr>\n",
       "      <th>0</th>\n",
       "      <td>Singapore</td>\n",
       "      <td>574.66382</td>\n",
       "      <td>542.553322</td>\n",
       "      <td>561.433275</td>\n",
       "    </tr>\n",
       "    <tr>\n",
       "      <th>1</th>\n",
       "      <td>Japan</td>\n",
       "      <td>535.579306</td>\n",
       "      <td>515.854614</td>\n",
       "      <td>546.634454</td>\n",
       "    </tr>\n",
       "    <tr>\n",
       "      <th>2</th>\n",
       "      <td>Korea</td>\n",
       "      <td>527.302502</td>\n",
       "      <td>515.415392</td>\n",
       "      <td>527.822418</td>\n",
       "    </tr>\n",
       "    <tr>\n",
       "      <th>3</th>\n",
       "      <td>Estonia</td>\n",
       "      <td>509.946953</td>\n",
       "      <td>511.030332</td>\n",
       "      <td>525.811778</td>\n",
       "    </tr>\n",
       "    <tr>\n",
       "      <th>4</th>\n",
       "      <td>Switzerland</td>\n",
       "      <td>507.990586</td>\n",
       "      <td>483.331734</td>\n",
       "      <td>502.523242</td>\n",
       "    </tr>\n",
       "  </tbody>\n",
       "</table>\n",
       "</div>"
      ],
      "text/plain": [
       "0      Country Mathematics     Reading     Science\n",
       "0    Singapore   574.66382  542.553322  561.433275\n",
       "1        Japan  535.579306  515.854614  546.634454\n",
       "2        Korea  527.302502  515.415392  527.822418\n",
       "3      Estonia  509.946953  511.030332  525.811778\n",
       "4  Switzerland  507.990586  483.331734  502.523242"
      ]
     },
     "execution_count": 11,
     "metadata": {},
     "output_type": "execute_result"
    }
   ],
   "source": [
    "pisa_mean_scores.head()"
   ]
  },
  {
   "cell_type": "markdown",
   "id": "deb822f5-4909-4380-818b-e79b5cf4cfb7",
   "metadata": {},
   "source": [
    "Clean up pisa socio economic data - get rid of empty rows and columns"
   ]
  },
  {
   "cell_type": "code",
   "execution_count": 12,
   "id": "7c2c279e-9509-4944-bc9b-852cdb107b3c",
   "metadata": {
    "jupyter": {
     "source_hidden": true
    }
   },
   "outputs": [],
   "source": [
    "# Set row 14 (index 13) as the header\n",
    "pisa_socio_economic.columns = pisa_socio_economic.iloc[13]  # Assign row 14 as column headers\n",
    "pisa_socio_economic = pisa_socio_economic[17:].reset_index(drop=True)  # Remove the old header row"
   ]
  },
  {
   "cell_type": "code",
   "execution_count": 13,
   "id": "4fca8a2f-482a-4009-8ca1-e967ee08650e",
   "metadata": {
    "jupyter": {
     "source_hidden": true
    }
   },
   "outputs": [],
   "source": [
    "pisa_socio_economic = pisa_socio_economic.iloc[:, :5]"
   ]
  },
  {
   "cell_type": "code",
   "execution_count": 14,
   "id": "e9953f23-e0f9-40cc-904b-5993dc1d5b02",
   "metadata": {
    "jupyter": {
     "source_hidden": true
    }
   },
   "outputs": [],
   "source": [
    "pisa_socio_economic.columns = ['Country', \n",
    "              'Coverage Index 3:Coverage of 15-year-old population', \n",
    "              'Strength: Percentage of variance in mathematics performance explained by ESCS1', \n",
    "             'Percentage of disadvantaged students who are academically resilient',\n",
    "             'Difference between advantaged and disadvantaged students in mathematics',\n",
    "             ]"
   ]
  },
  {
   "cell_type": "code",
   "execution_count": 15,
   "id": "2e17754b-3b93-4853-8608-6fbd6e0f04f0",
   "metadata": {
    "collapsed": true,
    "jupyter": {
     "outputs_hidden": true,
     "source_hidden": true
    }
   },
   "outputs": [
    {
     "data": {
      "text/html": [
       "<div>\n",
       "<style scoped>\n",
       "    .dataframe tbody tr th:only-of-type {\n",
       "        vertical-align: middle;\n",
       "    }\n",
       "\n",
       "    .dataframe tbody tr th {\n",
       "        vertical-align: top;\n",
       "    }\n",
       "\n",
       "    .dataframe thead th {\n",
       "        text-align: right;\n",
       "    }\n",
       "</style>\n",
       "<table border=\"1\" class=\"dataframe\">\n",
       "  <thead>\n",
       "    <tr style=\"text-align: right;\">\n",
       "      <th></th>\n",
       "      <th>Country</th>\n",
       "      <th>Coverage Index 3:Coverage of 15-year-old population</th>\n",
       "      <th>Strength: Percentage of variance in mathematics performance explained by ESCS1</th>\n",
       "      <th>Percentage of disadvantaged students who are academically resilient</th>\n",
       "      <th>Difference between advantaged and disadvantaged students in mathematics</th>\n",
       "    </tr>\n",
       "  </thead>\n",
       "  <tbody>\n",
       "    <tr>\n",
       "      <th>0</th>\n",
       "      <td>Cambodia</td>\n",
       "      <td>0.362739</td>\n",
       "      <td>1.924552</td>\n",
       "      <td>18.217807</td>\n",
       "      <td>20.974256</td>\n",
       "    </tr>\n",
       "    <tr>\n",
       "      <th>1</th>\n",
       "      <td>Uzbekistan</td>\n",
       "      <td>0.880582</td>\n",
       "      <td>2.009522</td>\n",
       "      <td>19.554093</td>\n",
       "      <td>22.379562</td>\n",
       "    </tr>\n",
       "    <tr>\n",
       "      <th>2</th>\n",
       "      <td>Kazakhstan</td>\n",
       "      <td>0.934065</td>\n",
       "      <td>3.939801</td>\n",
       "      <td>16.829596</td>\n",
       "      <td>41.348884</td>\n",
       "    </tr>\n",
       "    <tr>\n",
       "      <th>3</th>\n",
       "      <td>Albania</td>\n",
       "      <td>0.79201</td>\n",
       "      <td>4.480923</td>\n",
       "      <td>17.126901</td>\n",
       "      <td>48.755692</td>\n",
       "    </tr>\n",
       "    <tr>\n",
       "      <th>4</th>\n",
       "      <td>Philippines</td>\n",
       "      <td>0.832959</td>\n",
       "      <td>4.774886</td>\n",
       "      <td>11.599883</td>\n",
       "      <td>36.400151</td>\n",
       "    </tr>\n",
       "  </tbody>\n",
       "</table>\n",
       "</div>"
      ],
      "text/plain": [
       "       Country Coverage Index 3:Coverage of 15-year-old population  \\\n",
       "0     Cambodia                                           0.362739    \n",
       "1   Uzbekistan                                           0.880582    \n",
       "2   Kazakhstan                                           0.934065    \n",
       "3      Albania                                            0.79201    \n",
       "4  Philippines                                           0.832959    \n",
       "\n",
       "  Strength: Percentage of variance in mathematics performance explained by ESCS1  \\\n",
       "0                                           1.924552                               \n",
       "1                                           2.009522                               \n",
       "2                                           3.939801                               \n",
       "3                                           4.480923                               \n",
       "4                                           4.774886                               \n",
       "\n",
       "  Percentage of disadvantaged students who are academically resilient  \\\n",
       "0                                          18.217807                    \n",
       "1                                          19.554093                    \n",
       "2                                          16.829596                    \n",
       "3                                          17.126901                    \n",
       "4                                          11.599883                    \n",
       "\n",
       "  Difference between advantaged and disadvantaged students in mathematics  \n",
       "0                                          20.974256                       \n",
       "1                                          22.379562                       \n",
       "2                                          41.348884                       \n",
       "3                                          48.755692                       \n",
       "4                                          36.400151                       "
      ]
     },
     "execution_count": 15,
     "metadata": {},
     "output_type": "execute_result"
    }
   ],
   "source": [
    "pisa_socio_economic.head()"
   ]
  },
  {
   "cell_type": "markdown",
   "id": "1d9f8e9a-1e66-484c-a734-e9c9ccc7a458",
   "metadata": {},
   "source": [
    "#### 1.1 Check the structure of the dataframes"
   ]
  },
  {
   "cell_type": "code",
   "execution_count": 16,
   "id": "004a0c80-c8f6-4b6f-8125-3a6dc20d4136",
   "metadata": {
    "collapsed": true,
    "jupyter": {
     "outputs_hidden": true,
     "source_hidden": true
    },
    "scrolled": true
   },
   "outputs": [
    {
     "name": "stdout",
     "output_type": "stream",
     "text": [
      "(34, 8)\n",
      "(56, 7)\n",
      "(91, 4)\n",
      "(94, 5)\n"
     ]
    }
   ],
   "source": [
    "print(teacher_salaries.shape)\n",
    "print(average_salaries.shape)\n",
    "print(pisa_mean_scores.shape)\n",
    "print(pisa_socio_economic.shape)"
   ]
  },
  {
   "cell_type": "code",
   "execution_count": 17,
   "id": "a9db3cc3-e3de-4191-864b-b485d6a299c0",
   "metadata": {
    "collapsed": true,
    "jupyter": {
     "outputs_hidden": true,
     "source_hidden": true
    }
   },
   "outputs": [
    {
     "name": "stdout",
     "output_type": "stream",
     "text": [
      "<class 'pandas.core.frame.DataFrame'>\n",
      "RangeIndex: 34 entries, 0 to 33\n",
      "Data columns (total 8 columns):\n",
      " #   Column                                                        Non-Null Count  Dtype  \n",
      "---  ------                                                        --------------  -----  \n",
      " 0   flagCode                                                      34 non-null     object \n",
      " 1   country                                                       34 non-null     object \n",
      " 2   TeacherSalary_PrimarySchoolTeacherStarting_USD_2022           34 non-null     int64  \n",
      " 3   TeacherSalary_PrimarySchoolTeacherTopOfScale_USD_2022         31 non-null     float64\n",
      " 4   TeacherSalary_LowerSecondarySchoolTeacherStarting_USD_2022    34 non-null     int64  \n",
      " 5   TeacherSalary_LowerSecondarySchoolTeacherTopOfScale_USD_2022  31 non-null     float64\n",
      " 6   TeacherSalary_UpperSecondarySchoolTeacherStarting_USD_2022    34 non-null     int64  \n",
      " 7   TeacherSalary_UpperSecondarySchoolTeacherTopOfScale_USD_2022  31 non-null     float64\n",
      "dtypes: float64(3), int64(3), object(2)\n",
      "memory usage: 2.3+ KB\n"
     ]
    }
   ],
   "source": [
    "teacher_salaries.info()"
   ]
  },
  {
   "cell_type": "code",
   "execution_count": 18,
   "id": "acd517cc-de05-4f5f-beaa-370b625c9ed9",
   "metadata": {
    "collapsed": true,
    "jupyter": {
     "outputs_hidden": true,
     "source_hidden": true
    },
    "scrolled": true
   },
   "outputs": [
    {
     "name": "stdout",
     "output_type": "stream",
     "text": [
      "<class 'pandas.core.frame.DataFrame'>\n",
      "RangeIndex: 56 entries, 0 to 55\n",
      "Data columns (total 7 columns):\n",
      " #   Column     Non-Null Count  Dtype \n",
      "---  ------     --------------  ----- \n",
      " 0   Indicator  56 non-null     object\n",
      " 1   Country    56 non-null     object\n",
      " 2   2018       56 non-null     object\n",
      " 3   2019       56 non-null     object\n",
      " 4   2020       56 non-null     object\n",
      " 5   2021       56 non-null     object\n",
      " 6   2022       56 non-null     object\n",
      "dtypes: object(7)\n",
      "memory usage: 3.2+ KB\n"
     ]
    }
   ],
   "source": [
    "average_salaries.info()"
   ]
  },
  {
   "cell_type": "code",
   "execution_count": 19,
   "id": "46de332b-dd6f-4b95-9740-06a6a351a403",
   "metadata": {
    "collapsed": true,
    "jupyter": {
     "outputs_hidden": true,
     "source_hidden": true
    }
   },
   "outputs": [
    {
     "name": "stdout",
     "output_type": "stream",
     "text": [
      "<class 'pandas.core.frame.DataFrame'>\n",
      "RangeIndex: 91 entries, 0 to 90\n",
      "Data columns (total 4 columns):\n",
      " #   Column       Non-Null Count  Dtype \n",
      "---  ------       --------------  ----- \n",
      " 0   Country      89 non-null     object\n",
      " 1   Mathematics  81 non-null     object\n",
      " 2   Reading      81 non-null     object\n",
      " 3   Science      81 non-null     object\n",
      "dtypes: object(4)\n",
      "memory usage: 3.0+ KB\n"
     ]
    }
   ],
   "source": [
    "pisa_mean_scores.info()"
   ]
  },
  {
   "cell_type": "code",
   "execution_count": 20,
   "id": "676f9b05-03eb-4a04-baa8-53ca99893ab9",
   "metadata": {
    "collapsed": true,
    "jupyter": {
     "outputs_hidden": true,
     "source_hidden": true
    },
    "scrolled": true
   },
   "outputs": [
    {
     "name": "stdout",
     "output_type": "stream",
     "text": [
      "<class 'pandas.core.frame.DataFrame'>\n",
      "RangeIndex: 94 entries, 0 to 93\n",
      "Data columns (total 5 columns):\n",
      " #   Column                                                                          Non-Null Count  Dtype \n",
      "---  ------                                                                          --------------  ----- \n",
      " 0   Country                                                                         92 non-null     object\n",
      " 1   Coverage Index 3:Coverage of 15-year-old population                             81 non-null     object\n",
      " 2   Strength: Percentage of variance in mathematics performance explained by ESCS1  81 non-null     object\n",
      " 3   Percentage of disadvantaged students who are academically resilient             81 non-null     object\n",
      " 4   Difference between advantaged and disadvantaged students in mathematics         81 non-null     object\n",
      "dtypes: object(5)\n",
      "memory usage: 3.8+ KB\n"
     ]
    }
   ],
   "source": [
    "pisa_socio_economic.info()"
   ]
  },
  {
   "cell_type": "markdown",
   "id": "3b75ddfd-2d54-46b2-b8fa-83affe24e06d",
   "metadata": {},
   "source": [
    "### 2. Data cleaning"
   ]
  },
  {
   "cell_type": "markdown",
   "id": "16262e2c-725d-44bb-baee-5e33f54faf88",
   "metadata": {},
   "source": [
    "#### 2.1 Convert data types if needed"
   ]
  },
  {
   "cell_type": "code",
   "execution_count": 21,
   "id": "005da4ab-32a7-40bd-a6df-2a46dbcf79c5",
   "metadata": {
    "collapsed": true,
    "jupyter": {
     "outputs_hidden": true,
     "source_hidden": true
    },
    "scrolled": true
   },
   "outputs": [
    {
     "name": "stdout",
     "output_type": "stream",
     "text": [
      "<class 'pandas.core.frame.DataFrame'>\n",
      "RangeIndex: 56 entries, 0 to 55\n",
      "Data columns (total 7 columns):\n",
      " #   Column     Non-Null Count  Dtype  \n",
      "---  ------     --------------  -----  \n",
      " 0   Indicator  56 non-null     object \n",
      " 1   Country    56 non-null     object \n",
      " 2   2018       50 non-null     float64\n",
      " 3   2019       49 non-null     float64\n",
      " 4   2020       50 non-null     float64\n",
      " 5   2021       50 non-null     float64\n",
      " 6   2022       50 non-null     float64\n",
      "dtypes: float64(5), object(2)\n",
      "memory usage: 3.2+ KB\n"
     ]
    }
   ],
   "source": [
    "# Convert salary year columns to float\n",
    "cols = ['2018', '2019', '2020', '2021', '2022']\n",
    "average_salaries[cols] = average_salaries[cols].apply(pd.to_numeric, errors=\"coerce\")\n",
    "average_salaries.info()"
   ]
  },
  {
   "cell_type": "code",
   "execution_count": 22,
   "id": "fc5be66f-d8c4-4f6a-a770-5bec65e3a9c6",
   "metadata": {
    "collapsed": true,
    "jupyter": {
     "outputs_hidden": true,
     "source_hidden": true
    }
   },
   "outputs": [
    {
     "name": "stdout",
     "output_type": "stream",
     "text": [
      "<class 'pandas.core.frame.DataFrame'>\n",
      "RangeIndex: 94 entries, 0 to 93\n",
      "Data columns (total 5 columns):\n",
      " #   Column                                                                          Non-Null Count  Dtype  \n",
      "---  ------                                                                          --------------  -----  \n",
      " 0   Country                                                                         92 non-null     object \n",
      " 1   Coverage Index 3:Coverage of 15-year-old population                             81 non-null     float64\n",
      " 2   Strength: Percentage of variance in mathematics performance explained by ESCS1  80 non-null     float64\n",
      " 3   Percentage of disadvantaged students who are academically resilient             80 non-null     float64\n",
      " 4   Difference between advantaged and disadvantaged students in mathematics         80 non-null     float64\n",
      "dtypes: float64(4), object(1)\n",
      "memory usage: 3.8+ KB\n"
     ]
    }
   ],
   "source": [
    "# Convert mean scores columns to numeric\n",
    "cols = ['Coverage Index 3:Coverage of 15-year-old population', \n",
    "        'Strength: Percentage of variance in mathematics performance explained by ESCS1', \n",
    "        'Percentage of disadvantaged students who are academically resilient',\n",
    "       'Difference between advantaged and disadvantaged students in mathematics'\n",
    "       ]\n",
    "pisa_socio_economic[cols] = pisa_socio_economic[cols].apply(pd.to_numeric, errors=\"coerce\")\n",
    "pisa_socio_economic.info()"
   ]
  },
  {
   "cell_type": "code",
   "execution_count": 23,
   "id": "cca9cd7e-86a3-4e2a-b9f4-5e5d351cec82",
   "metadata": {
    "collapsed": true,
    "jupyter": {
     "outputs_hidden": true,
     "source_hidden": true
    }
   },
   "outputs": [
    {
     "name": "stdout",
     "output_type": "stream",
     "text": [
      "<class 'pandas.core.frame.DataFrame'>\n",
      "RangeIndex: 91 entries, 0 to 90\n",
      "Data columns (total 4 columns):\n",
      " #   Column       Non-Null Count  Dtype  \n",
      "---  ------       --------------  -----  \n",
      " 0   Country      89 non-null     object \n",
      " 1   Mathematics  81 non-null     float64\n",
      " 2   Reading      81 non-null     float64\n",
      " 3   Science      81 non-null     float64\n",
      "dtypes: float64(3), object(1)\n",
      "memory usage: 3.0+ KB\n"
     ]
    }
   ],
   "source": [
    "# Convert socio-economic scores columns to numeric\n",
    "cols = ['Mathematics', 'Reading', 'Science']\n",
    "pisa_mean_scores[cols] = pisa_mean_scores[cols].apply(pd.to_numeric, errors=\"coerce\")\n",
    "pisa_mean_scores.info()"
   ]
  },
  {
   "cell_type": "markdown",
   "id": "370c3328-82ca-4b44-ac06-8f5ae4c04fc6",
   "metadata": {},
   "source": [
    "#### 2.2 Handle missing values (drop, impute, or fill)"
   ]
  },
  {
   "cell_type": "code",
   "execution_count": 24,
   "id": "e5470f78-2e9e-4aa9-95ce-3cba3344262a",
   "metadata": {
    "collapsed": true,
    "jupyter": {
     "outputs_hidden": true,
     "source_hidden": true
    },
    "scrolled": true
   },
   "outputs": [
    {
     "data": {
      "text/plain": [
       "flagCode                                                        0\n",
       "country                                                         0\n",
       "TeacherSalary_PrimarySchoolTeacherStarting_USD_2022             0\n",
       "TeacherSalary_PrimarySchoolTeacherTopOfScale_USD_2022           3\n",
       "TeacherSalary_LowerSecondarySchoolTeacherStarting_USD_2022      0\n",
       "TeacherSalary_LowerSecondarySchoolTeacherTopOfScale_USD_2022    3\n",
       "TeacherSalary_UpperSecondarySchoolTeacherStarting_USD_2022      0\n",
       "TeacherSalary_UpperSecondarySchoolTeacherTopOfScale_USD_2022    3\n",
       "dtype: int64"
      ]
     },
     "execution_count": 24,
     "metadata": {},
     "output_type": "execute_result"
    }
   ],
   "source": [
    "# Identify missing values - teacher salaries\n",
    "teacher_salaries.isnull().sum()"
   ]
  },
  {
   "cell_type": "code",
   "execution_count": 25,
   "id": "5a825027-0d8e-48e6-be5f-9b60ba5ede1e",
   "metadata": {
    "collapsed": true,
    "jupyter": {
     "outputs_hidden": true,
     "source_hidden": true
    },
    "scrolled": true
   },
   "outputs": [
    {
     "data": {
      "text/html": [
       "<div>\n",
       "<style scoped>\n",
       "    .dataframe tbody tr th:only-of-type {\n",
       "        vertical-align: middle;\n",
       "    }\n",
       "\n",
       "    .dataframe tbody tr th {\n",
       "        vertical-align: top;\n",
       "    }\n",
       "\n",
       "    .dataframe thead th {\n",
       "        text-align: right;\n",
       "    }\n",
       "</style>\n",
       "<table border=\"1\" class=\"dataframe\">\n",
       "  <thead>\n",
       "    <tr style=\"text-align: right;\">\n",
       "      <th></th>\n",
       "      <th>flagCode</th>\n",
       "      <th>country</th>\n",
       "      <th>TeacherSalary_PrimarySchoolTeacherStarting_USD_2022</th>\n",
       "      <th>TeacherSalary_PrimarySchoolTeacherTopOfScale_USD_2022</th>\n",
       "      <th>TeacherSalary_LowerSecondarySchoolTeacherStarting_USD_2022</th>\n",
       "      <th>TeacherSalary_LowerSecondarySchoolTeacherTopOfScale_USD_2022</th>\n",
       "      <th>TeacherSalary_UpperSecondarySchoolTeacherStarting_USD_2022</th>\n",
       "      <th>TeacherSalary_UpperSecondarySchoolTeacherTopOfScale_USD_2022</th>\n",
       "    </tr>\n",
       "  </thead>\n",
       "  <tbody>\n",
       "    <tr>\n",
       "      <th>22</th>\n",
       "      <td>EE</td>\n",
       "      <td>Estonia</td>\n",
       "      <td>26031</td>\n",
       "      <td>NaN</td>\n",
       "      <td>26031</td>\n",
       "      <td>NaN</td>\n",
       "      <td>26031</td>\n",
       "      <td>NaN</td>\n",
       "    </tr>\n",
       "    <tr>\n",
       "      <th>29</th>\n",
       "      <td>BR</td>\n",
       "      <td>Brazil</td>\n",
       "      <td>20261</td>\n",
       "      <td>NaN</td>\n",
       "      <td>20261</td>\n",
       "      <td>NaN</td>\n",
       "      <td>20261</td>\n",
       "      <td>NaN</td>\n",
       "    </tr>\n",
       "    <tr>\n",
       "      <th>31</th>\n",
       "      <td>LV</td>\n",
       "      <td>Latvia</td>\n",
       "      <td>17039</td>\n",
       "      <td>NaN</td>\n",
       "      <td>17039</td>\n",
       "      <td>NaN</td>\n",
       "      <td>17039</td>\n",
       "      <td>NaN</td>\n",
       "    </tr>\n",
       "  </tbody>\n",
       "</table>\n",
       "</div>"
      ],
      "text/plain": [
       "   flagCode  country  TeacherSalary_PrimarySchoolTeacherStarting_USD_2022  \\\n",
       "22       EE  Estonia                                              26031     \n",
       "29       BR   Brazil                                              20261     \n",
       "31       LV   Latvia                                              17039     \n",
       "\n",
       "    TeacherSalary_PrimarySchoolTeacherTopOfScale_USD_2022  \\\n",
       "22                                                NaN       \n",
       "29                                                NaN       \n",
       "31                                                NaN       \n",
       "\n",
       "    TeacherSalary_LowerSecondarySchoolTeacherStarting_USD_2022  \\\n",
       "22                                              26031            \n",
       "29                                              20261            \n",
       "31                                              17039            \n",
       "\n",
       "    TeacherSalary_LowerSecondarySchoolTeacherTopOfScale_USD_2022  \\\n",
       "22                                                NaN              \n",
       "29                                                NaN              \n",
       "31                                                NaN              \n",
       "\n",
       "    TeacherSalary_UpperSecondarySchoolTeacherStarting_USD_2022  \\\n",
       "22                                              26031            \n",
       "29                                              20261            \n",
       "31                                              17039            \n",
       "\n",
       "    TeacherSalary_UpperSecondarySchoolTeacherTopOfScale_USD_2022  \n",
       "22                                                NaN             \n",
       "29                                                NaN             \n",
       "31                                                NaN             "
      ]
     },
     "execution_count": 25,
     "metadata": {},
     "output_type": "execute_result"
    }
   ],
   "source": [
    "teacher_salaries[teacher_salaries['TeacherSalary_PrimarySchoolTeacherTopOfScale_USD_2022'].isnull()]"
   ]
  },
  {
   "cell_type": "code",
   "execution_count": 26,
   "id": "4e685864-3382-4917-9fc7-18fb24c0e116",
   "metadata": {
    "collapsed": true,
    "jupyter": {
     "outputs_hidden": true,
     "source_hidden": true
    }
   },
   "outputs": [
    {
     "data": {
      "text/plain": [
       "Indicator    0\n",
       "Country      0\n",
       "2018         6\n",
       "2019         7\n",
       "2020         6\n",
       "2021         6\n",
       "2022         6\n",
       "dtype: int64"
      ]
     },
     "execution_count": 26,
     "metadata": {},
     "output_type": "execute_result"
    }
   ],
   "source": [
    "# Identify missing values - average salaries\n",
    "average_salaries.isnull().sum()"
   ]
  },
  {
   "cell_type": "code",
   "execution_count": 27,
   "id": "9bd690c6-5a98-4413-828b-0064e24bfce0",
   "metadata": {
    "collapsed": true,
    "jupyter": {
     "outputs_hidden": true,
     "source_hidden": true
    },
    "scrolled": true
   },
   "outputs": [
    {
     "data": {
      "text/html": [
       "<div>\n",
       "<style scoped>\n",
       "    .dataframe tbody tr th:only-of-type {\n",
       "        vertical-align: middle;\n",
       "    }\n",
       "\n",
       "    .dataframe tbody tr th {\n",
       "        vertical-align: top;\n",
       "    }\n",
       "\n",
       "    .dataframe thead th {\n",
       "        text-align: right;\n",
       "    }\n",
       "</style>\n",
       "<table border=\"1\" class=\"dataframe\">\n",
       "  <thead>\n",
       "    <tr style=\"text-align: right;\">\n",
       "      <th></th>\n",
       "      <th>Indicator</th>\n",
       "      <th>Country</th>\n",
       "      <th>2018</th>\n",
       "      <th>2019</th>\n",
       "      <th>2020</th>\n",
       "      <th>2021</th>\n",
       "      <th>2022</th>\n",
       "    </tr>\n",
       "  </thead>\n",
       "  <tbody>\n",
       "    <tr>\n",
       "      <th>1</th>\n",
       "      <td>US$, at current Exchange Rates</td>\n",
       "      <td>Andorra</td>\n",
       "      <td>NaN</td>\n",
       "      <td>NaN</td>\n",
       "      <td>NaN</td>\n",
       "      <td>NaN</td>\n",
       "      <td>NaN</td>\n",
       "    </tr>\n",
       "    <tr>\n",
       "      <th>28</th>\n",
       "      <td>US$, at current Exchange Rates</td>\n",
       "      <td>Liechtenstein</td>\n",
       "      <td>NaN</td>\n",
       "      <td>NaN</td>\n",
       "      <td>NaN</td>\n",
       "      <td>NaN</td>\n",
       "      <td>NaN</td>\n",
       "    </tr>\n",
       "    <tr>\n",
       "      <th>32</th>\n",
       "      <td>US$, at current Exchange Rates</td>\n",
       "      <td>Monaco</td>\n",
       "      <td>NaN</td>\n",
       "      <td>NaN</td>\n",
       "      <td>NaN</td>\n",
       "      <td>NaN</td>\n",
       "      <td>NaN</td>\n",
       "    </tr>\n",
       "    <tr>\n",
       "      <th>41</th>\n",
       "      <td>US$, at current Exchange Rates</td>\n",
       "      <td>Russian Federation</td>\n",
       "      <td>NaN</td>\n",
       "      <td>NaN</td>\n",
       "      <td>NaN</td>\n",
       "      <td>NaN</td>\n",
       "      <td>NaN</td>\n",
       "    </tr>\n",
       "    <tr>\n",
       "      <th>42</th>\n",
       "      <td>US$, at current Exchange Rates</td>\n",
       "      <td>San Marino</td>\n",
       "      <td>NaN</td>\n",
       "      <td>NaN</td>\n",
       "      <td>NaN</td>\n",
       "      <td>NaN</td>\n",
       "      <td>NaN</td>\n",
       "    </tr>\n",
       "    <tr>\n",
       "      <th>51</th>\n",
       "      <td>US$, at current Exchange Rates</td>\n",
       "      <td>Turkmenistan</td>\n",
       "      <td>NaN</td>\n",
       "      <td>NaN</td>\n",
       "      <td>NaN</td>\n",
       "      <td>NaN</td>\n",
       "      <td>NaN</td>\n",
       "    </tr>\n",
       "  </tbody>\n",
       "</table>\n",
       "</div>"
      ],
      "text/plain": [
       "                         Indicator             Country  2018  2019  2020  \\\n",
       "1   US$, at current Exchange Rates             Andorra   NaN   NaN   NaN   \n",
       "28  US$, at current Exchange Rates       Liechtenstein   NaN   NaN   NaN   \n",
       "32  US$, at current Exchange Rates              Monaco   NaN   NaN   NaN   \n",
       "41  US$, at current Exchange Rates  Russian Federation   NaN   NaN   NaN   \n",
       "42  US$, at current Exchange Rates          San Marino   NaN   NaN   NaN   \n",
       "51  US$, at current Exchange Rates        Turkmenistan   NaN   NaN   NaN   \n",
       "\n",
       "    2021  2022  \n",
       "1    NaN   NaN  \n",
       "28   NaN   NaN  \n",
       "32   NaN   NaN  \n",
       "41   NaN   NaN  \n",
       "42   NaN   NaN  \n",
       "51   NaN   NaN  "
      ]
     },
     "execution_count": 27,
     "metadata": {},
     "output_type": "execute_result"
    }
   ],
   "source": [
    "average_salaries[average_salaries['2022'].isnull()]"
   ]
  },
  {
   "cell_type": "code",
   "execution_count": 28,
   "id": "cf81ea89-a71e-4172-b2dc-5469bca2026d",
   "metadata": {
    "jupyter": {
     "source_hidden": true
    }
   },
   "outputs": [],
   "source": [
    "average_salaries = average_salaries.drop(columns=['2018', '2019','2020','2021'])"
   ]
  },
  {
   "cell_type": "code",
   "execution_count": 29,
   "id": "4fa55288-50fc-4815-a1cf-853008dda0ac",
   "metadata": {
    "jupyter": {
     "source_hidden": true
    }
   },
   "outputs": [],
   "source": [
    "# remove countries with no value for 2022 average salaries\n",
    "average_salaries = average_salaries.dropna(subset=['2022']) "
   ]
  },
  {
   "cell_type": "code",
   "execution_count": 30,
   "id": "8ac91c40-faee-4207-955e-1062db46e639",
   "metadata": {
    "collapsed": true,
    "jupyter": {
     "outputs_hidden": true,
     "source_hidden": true
    }
   },
   "outputs": [
    {
     "data": {
      "text/plain": [
       "0\n",
       "Country         2\n",
       "Mathematics    10\n",
       "Reading        10\n",
       "Science        10\n",
       "dtype: int64"
      ]
     },
     "execution_count": 30,
     "metadata": {},
     "output_type": "execute_result"
    }
   ],
   "source": [
    "# Identify missing values - average salaries\n",
    "pisa_mean_scores.isnull().sum()"
   ]
  },
  {
   "cell_type": "code",
   "execution_count": 31,
   "id": "45a9c41e-3160-40a0-9e5c-81a8d444e374",
   "metadata": {
    "collapsed": true,
    "jupyter": {
     "outputs_hidden": true,
     "source_hidden": true
    },
    "scrolled": true
   },
   "outputs": [
    {
     "data": {
      "text/html": [
       "<div>\n",
       "<style scoped>\n",
       "    .dataframe tbody tr th:only-of-type {\n",
       "        vertical-align: middle;\n",
       "    }\n",
       "\n",
       "    .dataframe tbody tr th {\n",
       "        vertical-align: top;\n",
       "    }\n",
       "\n",
       "    .dataframe thead th {\n",
       "        text-align: right;\n",
       "    }\n",
       "</style>\n",
       "<table border=\"1\" class=\"dataframe\">\n",
       "  <thead>\n",
       "    <tr style=\"text-align: right;\">\n",
       "      <th></th>\n",
       "      <th>Country</th>\n",
       "      <th>Mathematics</th>\n",
       "      <th>Reading</th>\n",
       "      <th>Science</th>\n",
       "    </tr>\n",
       "  </thead>\n",
       "  <tbody>\n",
       "    <tr>\n",
       "      <th>73</th>\n",
       "      <td>NaN</td>\n",
       "      <td>NaN</td>\n",
       "      <td>NaN</td>\n",
       "      <td>NaN</td>\n",
       "    </tr>\n",
       "    <tr>\n",
       "      <th>82</th>\n",
       "      <td>NaN</td>\n",
       "      <td>NaN</td>\n",
       "      <td>NaN</td>\n",
       "      <td>NaN</td>\n",
       "    </tr>\n",
       "  </tbody>\n",
       "</table>\n",
       "</div>"
      ],
      "text/plain": [
       "0  Country  Mathematics  Reading  Science\n",
       "73     NaN          NaN      NaN      NaN\n",
       "82     NaN          NaN      NaN      NaN"
      ]
     },
     "execution_count": 31,
     "metadata": {},
     "output_type": "execute_result"
    }
   ],
   "source": [
    "pisa_mean_scores[pisa_mean_scores['Country'].isnull()]"
   ]
  },
  {
   "cell_type": "code",
   "execution_count": 32,
   "id": "ef68c81c-9523-4203-b402-c0ba8490a9b6",
   "metadata": {
    "jupyter": {
     "source_hidden": true
    }
   },
   "outputs": [],
   "source": [
    "#remove rows with no values\n",
    "pisa_mean_scores = pisa_mean_scores.dropna(subset=['Country'])"
   ]
  },
  {
   "cell_type": "code",
   "execution_count": 33,
   "id": "c3aba2ed-5009-44ac-b1e1-c83b60216a81",
   "metadata": {
    "collapsed": true,
    "jupyter": {
     "outputs_hidden": true,
     "source_hidden": true
    }
   },
   "outputs": [
    {
     "data": {
      "text/html": [
       "<div>\n",
       "<style scoped>\n",
       "    .dataframe tbody tr th:only-of-type {\n",
       "        vertical-align: middle;\n",
       "    }\n",
       "\n",
       "    .dataframe tbody tr th {\n",
       "        vertical-align: top;\n",
       "    }\n",
       "\n",
       "    .dataframe thead th {\n",
       "        text-align: right;\n",
       "    }\n",
       "</style>\n",
       "<table border=\"1\" class=\"dataframe\">\n",
       "  <thead>\n",
       "    <tr style=\"text-align: right;\">\n",
       "      <th></th>\n",
       "      <th>Country</th>\n",
       "      <th>Mathematics</th>\n",
       "      <th>Reading</th>\n",
       "      <th>Science</th>\n",
       "    </tr>\n",
       "  </thead>\n",
       "  <tbody>\n",
       "    <tr>\n",
       "      <th>83</th>\n",
       "      <td>* Caution is required when interpreting estima...</td>\n",
       "      <td>NaN</td>\n",
       "      <td>NaN</td>\n",
       "      <td>NaN</td>\n",
       "    </tr>\n",
       "    <tr>\n",
       "      <th>84</th>\n",
       "      <td>** Caution is required when comparing estimate...</td>\n",
       "      <td>NaN</td>\n",
       "      <td>NaN</td>\n",
       "      <td>NaN</td>\n",
       "    </tr>\n",
       "    <tr>\n",
       "      <th>85</th>\n",
       "      <td>Notes: Values that are statistically significa...</td>\n",
       "      <td>NaN</td>\n",
       "      <td>NaN</td>\n",
       "      <td>NaN</td>\n",
       "    </tr>\n",
       "    <tr>\n",
       "      <th>86</th>\n",
       "      <td>Long-term trends are reported for the longest ...</td>\n",
       "      <td>NaN</td>\n",
       "      <td>NaN</td>\n",
       "      <td>NaN</td>\n",
       "    </tr>\n",
       "    <tr>\n",
       "      <th>87</th>\n",
       "      <td>The OECD average does not include Costa Rica a...</td>\n",
       "      <td>NaN</td>\n",
       "      <td>NaN</td>\n",
       "      <td>NaN</td>\n",
       "    </tr>\n",
       "    <tr>\n",
       "      <th>88</th>\n",
       "      <td>Countries and economies are ranked in descendi...</td>\n",
       "      <td>NaN</td>\n",
       "      <td>NaN</td>\n",
       "      <td>NaN</td>\n",
       "    </tr>\n",
       "    <tr>\n",
       "      <th>89</th>\n",
       "      <td>Source: OECD, PISA 2022 Database, Tables I.B1....</td>\n",
       "      <td>NaN</td>\n",
       "      <td>NaN</td>\n",
       "      <td>NaN</td>\n",
       "    </tr>\n",
       "    <tr>\n",
       "      <th>90</th>\n",
       "      <td>Information on data for Cyprus: https://oe.cd/...</td>\n",
       "      <td>NaN</td>\n",
       "      <td>NaN</td>\n",
       "      <td>NaN</td>\n",
       "    </tr>\n",
       "  </tbody>\n",
       "</table>\n",
       "</div>"
      ],
      "text/plain": [
       "0                                             Country  Mathematics  Reading  \\\n",
       "83  * Caution is required when interpreting estima...          NaN      NaN   \n",
       "84  ** Caution is required when comparing estimate...          NaN      NaN   \n",
       "85  Notes: Values that are statistically significa...          NaN      NaN   \n",
       "86  Long-term trends are reported for the longest ...          NaN      NaN   \n",
       "87  The OECD average does not include Costa Rica a...          NaN      NaN   \n",
       "88  Countries and economies are ranked in descendi...          NaN      NaN   \n",
       "89  Source: OECD, PISA 2022 Database, Tables I.B1....          NaN      NaN   \n",
       "90  Information on data for Cyprus: https://oe.cd/...          NaN      NaN   \n",
       "\n",
       "0   Science  \n",
       "83      NaN  \n",
       "84      NaN  \n",
       "85      NaN  \n",
       "86      NaN  \n",
       "87      NaN  \n",
       "88      NaN  \n",
       "89      NaN  \n",
       "90      NaN  "
      ]
     },
     "execution_count": 33,
     "metadata": {},
     "output_type": "execute_result"
    }
   ],
   "source": [
    "pisa_mean_scores[pisa_mean_scores['Mathematics'].isnull()]"
   ]
  },
  {
   "cell_type": "code",
   "execution_count": 34,
   "id": "86011fd4-b7d7-4315-9d10-aafa121b470d",
   "metadata": {
    "jupyter": {
     "source_hidden": true
    }
   },
   "outputs": [],
   "source": [
    "#remove rows that are footnotes\n",
    "pisa_mean_scores = pisa_mean_scores.dropna(subset=['Mathematics'])"
   ]
  },
  {
   "cell_type": "code",
   "execution_count": 35,
   "id": "2f5a9cad-cf39-4d0e-aca2-33de40d1c6a6",
   "metadata": {
    "collapsed": true,
    "jupyter": {
     "outputs_hidden": true,
     "source_hidden": true
    }
   },
   "outputs": [
    {
     "data": {
      "text/plain": [
       "(81, 4)"
      ]
     },
     "execution_count": 35,
     "metadata": {},
     "output_type": "execute_result"
    }
   ],
   "source": [
    "pisa_mean_scores.shape"
   ]
  },
  {
   "cell_type": "code",
   "execution_count": 36,
   "id": "1d312cce-67a8-4a51-bf50-9f47b4379114",
   "metadata": {
    "collapsed": true,
    "jupyter": {
     "outputs_hidden": true,
     "source_hidden": true
    },
    "scrolled": true
   },
   "outputs": [
    {
     "data": {
      "text/plain": [
       "Country                                                                            2\n",
       "Coverage Index 3:Coverage of 15-year-old population                               13\n",
       "Strength: Percentage of variance in mathematics performance explained by ESCS1    14\n",
       "Percentage of disadvantaged students who are academically resilient               14\n",
       "Difference between advantaged and disadvantaged students in mathematics           14\n",
       "dtype: int64"
      ]
     },
     "execution_count": 36,
     "metadata": {},
     "output_type": "execute_result"
    }
   ],
   "source": [
    "pisa_socio_economic.isnull().sum()"
   ]
  },
  {
   "cell_type": "code",
   "execution_count": 37,
   "id": "7744ed67-0e8d-47e5-b778-af0e8c70242d",
   "metadata": {
    "collapsed": true,
    "jupyter": {
     "outputs_hidden": true,
     "source_hidden": true
    },
    "scrolled": true
   },
   "outputs": [
    {
     "data": {
      "text/html": [
       "<div>\n",
       "<style scoped>\n",
       "    .dataframe tbody tr th:only-of-type {\n",
       "        vertical-align: middle;\n",
       "    }\n",
       "\n",
       "    .dataframe tbody tr th {\n",
       "        vertical-align: top;\n",
       "    }\n",
       "\n",
       "    .dataframe thead th {\n",
       "        text-align: right;\n",
       "    }\n",
       "</style>\n",
       "<table border=\"1\" class=\"dataframe\">\n",
       "  <thead>\n",
       "    <tr style=\"text-align: right;\">\n",
       "      <th></th>\n",
       "      <th>Country</th>\n",
       "      <th>Coverage Index 3:Coverage of 15-year-old population</th>\n",
       "      <th>Strength: Percentage of variance in mathematics performance explained by ESCS1</th>\n",
       "      <th>Percentage of disadvantaged students who are academically resilient</th>\n",
       "      <th>Difference between advantaged and disadvantaged students in mathematics</th>\n",
       "    </tr>\n",
       "  </thead>\n",
       "  <tbody>\n",
       "    <tr>\n",
       "      <th>73</th>\n",
       "      <td>NaN</td>\n",
       "      <td>NaN</td>\n",
       "      <td>NaN</td>\n",
       "      <td>NaN</td>\n",
       "      <td>NaN</td>\n",
       "    </tr>\n",
       "    <tr>\n",
       "      <th>82</th>\n",
       "      <td>NaN</td>\n",
       "      <td>NaN</td>\n",
       "      <td>NaN</td>\n",
       "      <td>NaN</td>\n",
       "      <td>NaN</td>\n",
       "    </tr>\n",
       "  </tbody>\n",
       "</table>\n",
       "</div>"
      ],
      "text/plain": [
       "   Country  Coverage Index 3:Coverage of 15-year-old population  \\\n",
       "73     NaN                                                NaN     \n",
       "82     NaN                                                NaN     \n",
       "\n",
       "    Strength: Percentage of variance in mathematics performance explained by ESCS1  \\\n",
       "73                                                NaN                                \n",
       "82                                                NaN                                \n",
       "\n",
       "    Percentage of disadvantaged students who are academically resilient  \\\n",
       "73                                                NaN                     \n",
       "82                                                NaN                     \n",
       "\n",
       "    Difference between advantaged and disadvantaged students in mathematics  \n",
       "73                                                NaN                        \n",
       "82                                                NaN                        "
      ]
     },
     "execution_count": 37,
     "metadata": {},
     "output_type": "execute_result"
    }
   ],
   "source": [
    "pisa_socio_economic[pisa_socio_economic['Country'].isnull()]"
   ]
  },
  {
   "cell_type": "code",
   "execution_count": 38,
   "id": "64d4bffe-c967-43d0-8330-994985000fbc",
   "metadata": {
    "jupyter": {
     "source_hidden": true
    }
   },
   "outputs": [],
   "source": [
    "pisa_socio_economic = pisa_socio_economic.dropna(subset=['Country'])"
   ]
  },
  {
   "cell_type": "code",
   "execution_count": 39,
   "id": "0d4d9d97-dbdc-4f9d-a77e-95ad2d20f177",
   "metadata": {
    "collapsed": true,
    "jupyter": {
     "outputs_hidden": true,
     "source_hidden": true
    },
    "scrolled": true
   },
   "outputs": [
    {
     "data": {
      "text/html": [
       "<div>\n",
       "<style scoped>\n",
       "    .dataframe tbody tr th:only-of-type {\n",
       "        vertical-align: middle;\n",
       "    }\n",
       "\n",
       "    .dataframe tbody tr th {\n",
       "        vertical-align: top;\n",
       "    }\n",
       "\n",
       "    .dataframe thead th {\n",
       "        text-align: right;\n",
       "    }\n",
       "</style>\n",
       "<table border=\"1\" class=\"dataframe\">\n",
       "  <thead>\n",
       "    <tr style=\"text-align: right;\">\n",
       "      <th></th>\n",
       "      <th>Country</th>\n",
       "      <th>Coverage Index 3:Coverage of 15-year-old population</th>\n",
       "      <th>Strength: Percentage of variance in mathematics performance explained by ESCS1</th>\n",
       "      <th>Percentage of disadvantaged students who are academically resilient</th>\n",
       "      <th>Difference between advantaged and disadvantaged students in mathematics</th>\n",
       "    </tr>\n",
       "  </thead>\n",
       "  <tbody>\n",
       "    <tr>\n",
       "      <th>83</th>\n",
       "      <td>1. ESCS refers to the PISA index of economic, ...</td>\n",
       "      <td>NaN</td>\n",
       "      <td>NaN</td>\n",
       "      <td>NaN</td>\n",
       "      <td>NaN</td>\n",
       "    </tr>\n",
       "    <tr>\n",
       "      <th>84</th>\n",
       "      <td>2. Academically resilient students are disadva...</td>\n",
       "      <td>NaN</td>\n",
       "      <td>NaN</td>\n",
       "      <td>NaN</td>\n",
       "      <td>NaN</td>\n",
       "    </tr>\n",
       "    <tr>\n",
       "      <th>85</th>\n",
       "      <td>3. A socio-economically advantaged (disadvanta...</td>\n",
       "      <td>NaN</td>\n",
       "      <td>NaN</td>\n",
       "      <td>NaN</td>\n",
       "      <td>NaN</td>\n",
       "    </tr>\n",
       "    <tr>\n",
       "      <th>86</th>\n",
       "      <td>4. A positive (negative) score difference indi...</td>\n",
       "      <td>NaN</td>\n",
       "      <td>NaN</td>\n",
       "      <td>NaN</td>\n",
       "      <td>NaN</td>\n",
       "    </tr>\n",
       "    <tr>\n",
       "      <th>87</th>\n",
       "      <td>5. A positive (negative) score difference indi...</td>\n",
       "      <td>NaN</td>\n",
       "      <td>NaN</td>\n",
       "      <td>NaN</td>\n",
       "      <td>NaN</td>\n",
       "    </tr>\n",
       "    <tr>\n",
       "      <th>88</th>\n",
       "      <td>* Caution is required when interpreting estima...</td>\n",
       "      <td>NaN</td>\n",
       "      <td>NaN</td>\n",
       "      <td>NaN</td>\n",
       "      <td>NaN</td>\n",
       "    </tr>\n",
       "    <tr>\n",
       "      <th>89</th>\n",
       "      <td>Notes: Values that are statistically significa...</td>\n",
       "      <td>NaN</td>\n",
       "      <td>NaN</td>\n",
       "      <td>NaN</td>\n",
       "      <td>NaN</td>\n",
       "    </tr>\n",
       "    <tr>\n",
       "      <th>90</th>\n",
       "      <td>The OECD average does not include Costa Rica a...</td>\n",
       "      <td>NaN</td>\n",
       "      <td>NaN</td>\n",
       "      <td>NaN</td>\n",
       "      <td>NaN</td>\n",
       "    </tr>\n",
       "    <tr>\n",
       "      <th>91</th>\n",
       "      <td>Countries and economies are ranked in ascendin...</td>\n",
       "      <td>NaN</td>\n",
       "      <td>NaN</td>\n",
       "      <td>NaN</td>\n",
       "      <td>NaN</td>\n",
       "    </tr>\n",
       "    <tr>\n",
       "      <th>92</th>\n",
       "      <td>Source: OECD, PISA 2022 Database, Tables I.B1....</td>\n",
       "      <td>NaN</td>\n",
       "      <td>NaN</td>\n",
       "      <td>NaN</td>\n",
       "      <td>NaN</td>\n",
       "    </tr>\n",
       "    <tr>\n",
       "      <th>93</th>\n",
       "      <td>Information on data for Cyprus: https://oe.cd/...</td>\n",
       "      <td>NaN</td>\n",
       "      <td>NaN</td>\n",
       "      <td>NaN</td>\n",
       "      <td>NaN</td>\n",
       "    </tr>\n",
       "  </tbody>\n",
       "</table>\n",
       "</div>"
      ],
      "text/plain": [
       "                                              Country  \\\n",
       "83  1. ESCS refers to the PISA index of economic, ...   \n",
       "84  2. Academically resilient students are disadva...   \n",
       "85  3. A socio-economically advantaged (disadvanta...   \n",
       "86  4. A positive (negative) score difference indi...   \n",
       "87  5. A positive (negative) score difference indi...   \n",
       "88  * Caution is required when interpreting estima...   \n",
       "89  Notes: Values that are statistically significa...   \n",
       "90  The OECD average does not include Costa Rica a...   \n",
       "91  Countries and economies are ranked in ascendin...   \n",
       "92  Source: OECD, PISA 2022 Database, Tables I.B1....   \n",
       "93  Information on data for Cyprus: https://oe.cd/...   \n",
       "\n",
       "    Coverage Index 3:Coverage of 15-year-old population  \\\n",
       "83                                                NaN     \n",
       "84                                                NaN     \n",
       "85                                                NaN     \n",
       "86                                                NaN     \n",
       "87                                                NaN     \n",
       "88                                                NaN     \n",
       "89                                                NaN     \n",
       "90                                                NaN     \n",
       "91                                                NaN     \n",
       "92                                                NaN     \n",
       "93                                                NaN     \n",
       "\n",
       "    Strength: Percentage of variance in mathematics performance explained by ESCS1  \\\n",
       "83                                                NaN                                \n",
       "84                                                NaN                                \n",
       "85                                                NaN                                \n",
       "86                                                NaN                                \n",
       "87                                                NaN                                \n",
       "88                                                NaN                                \n",
       "89                                                NaN                                \n",
       "90                                                NaN                                \n",
       "91                                                NaN                                \n",
       "92                                                NaN                                \n",
       "93                                                NaN                                \n",
       "\n",
       "    Percentage of disadvantaged students who are academically resilient  \\\n",
       "83                                                NaN                     \n",
       "84                                                NaN                     \n",
       "85                                                NaN                     \n",
       "86                                                NaN                     \n",
       "87                                                NaN                     \n",
       "88                                                NaN                     \n",
       "89                                                NaN                     \n",
       "90                                                NaN                     \n",
       "91                                                NaN                     \n",
       "92                                                NaN                     \n",
       "93                                                NaN                     \n",
       "\n",
       "    Difference between advantaged and disadvantaged students in mathematics  \n",
       "83                                                NaN                        \n",
       "84                                                NaN                        \n",
       "85                                                NaN                        \n",
       "86                                                NaN                        \n",
       "87                                                NaN                        \n",
       "88                                                NaN                        \n",
       "89                                                NaN                        \n",
       "90                                                NaN                        \n",
       "91                                                NaN                        \n",
       "92                                                NaN                        \n",
       "93                                                NaN                        "
      ]
     },
     "execution_count": 39,
     "metadata": {},
     "output_type": "execute_result"
    }
   ],
   "source": [
    "pisa_socio_economic[pisa_socio_economic['Coverage Index 3:Coverage of 15-year-old population'].isnull()]"
   ]
  },
  {
   "cell_type": "code",
   "execution_count": 40,
   "id": "7007454d-6981-41b0-8b2a-586718892139",
   "metadata": {
    "jupyter": {
     "source_hidden": true
    }
   },
   "outputs": [],
   "source": [
    "# remove rows that are footnotes\n",
    "pisa_socio_economic = pisa_socio_economic.dropna(subset=['Coverage Index 3:Coverage of 15-year-old population'])"
   ]
  },
  {
   "cell_type": "code",
   "execution_count": 41,
   "id": "2b7ac041-bb3c-4ef5-82f4-9d02e2c31e53",
   "metadata": {
    "collapsed": true,
    "jupyter": {
     "outputs_hidden": true,
     "source_hidden": true
    }
   },
   "outputs": [
    {
     "data": {
      "text/html": [
       "<div>\n",
       "<style scoped>\n",
       "    .dataframe tbody tr th:only-of-type {\n",
       "        vertical-align: middle;\n",
       "    }\n",
       "\n",
       "    .dataframe tbody tr th {\n",
       "        vertical-align: top;\n",
       "    }\n",
       "\n",
       "    .dataframe thead th {\n",
       "        text-align: right;\n",
       "    }\n",
       "</style>\n",
       "<table border=\"1\" class=\"dataframe\">\n",
       "  <thead>\n",
       "    <tr style=\"text-align: right;\">\n",
       "      <th></th>\n",
       "      <th>Country</th>\n",
       "      <th>Coverage Index 3:Coverage of 15-year-old population</th>\n",
       "      <th>Strength: Percentage of variance in mathematics performance explained by ESCS1</th>\n",
       "      <th>Percentage of disadvantaged students who are academically resilient</th>\n",
       "      <th>Difference between advantaged and disadvantaged students in mathematics</th>\n",
       "    </tr>\n",
       "  </thead>\n",
       "  <tbody>\n",
       "    <tr>\n",
       "      <th>72</th>\n",
       "      <td>Costa Rica</td>\n",
       "      <td>0.775881</td>\n",
       "      <td>NaN</td>\n",
       "      <td>NaN</td>\n",
       "      <td>NaN</td>\n",
       "    </tr>\n",
       "  </tbody>\n",
       "</table>\n",
       "</div>"
      ],
      "text/plain": [
       "       Country  Coverage Index 3:Coverage of 15-year-old population  \\\n",
       "72  Costa Rica                                           0.775881     \n",
       "\n",
       "    Strength: Percentage of variance in mathematics performance explained by ESCS1  \\\n",
       "72                                                NaN                                \n",
       "\n",
       "    Percentage of disadvantaged students who are academically resilient  \\\n",
       "72                                                NaN                     \n",
       "\n",
       "    Difference between advantaged and disadvantaged students in mathematics  \n",
       "72                                                NaN                        "
      ]
     },
     "execution_count": 41,
     "metadata": {},
     "output_type": "execute_result"
    }
   ],
   "source": [
    "pisa_socio_economic[pisa_socio_economic['Strength: Percentage of variance in mathematics performance explained by ESCS1'].isnull()]"
   ]
  },
  {
   "cell_type": "code",
   "execution_count": 42,
   "id": "d5ab0de4-a2e1-4800-9128-1c18999af120",
   "metadata": {
    "jupyter": {
     "source_hidden": true
    }
   },
   "outputs": [],
   "source": [
    "#remove Costa Rica\n",
    "pisa_socio_economic = pisa_socio_economic.dropna(subset=['Strength: Percentage of variance in mathematics performance explained by ESCS1'])"
   ]
  },
  {
   "cell_type": "code",
   "execution_count": 43,
   "id": "ba9beff9-8440-48bd-8d86-53ee66a5ca6e",
   "metadata": {
    "collapsed": true,
    "jupyter": {
     "outputs_hidden": true,
     "source_hidden": true
    }
   },
   "outputs": [
    {
     "name": "stdout",
     "output_type": "stream",
     "text": [
      "flagCode                                                        0\n",
      "country                                                         0\n",
      "TeacherSalary_PrimarySchoolTeacherStarting_USD_2022             0\n",
      "TeacherSalary_PrimarySchoolTeacherTopOfScale_USD_2022           3\n",
      "TeacherSalary_LowerSecondarySchoolTeacherStarting_USD_2022      0\n",
      "TeacherSalary_LowerSecondarySchoolTeacherTopOfScale_USD_2022    3\n",
      "TeacherSalary_UpperSecondarySchoolTeacherStarting_USD_2022      0\n",
      "TeacherSalary_UpperSecondarySchoolTeacherTopOfScale_USD_2022    3\n",
      "dtype: int64\n",
      "\n",
      "Indicator    0\n",
      "Country      0\n",
      "2022         0\n",
      "dtype: int64\n",
      "\n",
      "0\n",
      "Country        0\n",
      "Mathematics    0\n",
      "Reading        0\n",
      "Science        0\n",
      "dtype: int64\n",
      "\n",
      "Country                                                                           0\n",
      "Coverage Index 3:Coverage of 15-year-old population                               0\n",
      "Strength: Percentage of variance in mathematics performance explained by ESCS1    0\n",
      "Percentage of disadvantaged students who are academically resilient               0\n",
      "Difference between advantaged and disadvantaged students in mathematics           0\n",
      "dtype: int64\n"
     ]
    }
   ],
   "source": [
    "print(teacher_salaries.isnull().sum())\n",
    "print()\n",
    "print(average_salaries.isnull().sum())\n",
    "print()\n",
    "print(pisa_mean_scores.isnull().sum())\n",
    "print()\n",
    "print(pisa_socio_economic.isnull().sum())"
   ]
  },
  {
   "cell_type": "markdown",
   "id": "670aa11f-e089-4240-acac-74ce85b88832",
   "metadata": {},
   "source": [
    "#### 2.3 Remove duplicates & fix inconsistencies (e.g., incorrect data formats, spelling errors)"
   ]
  },
  {
   "cell_type": "code",
   "execution_count": 44,
   "id": "d750c38e-bfa9-4f21-bb29-5ae626c29fb3",
   "metadata": {
    "collapsed": true,
    "jupyter": {
     "outputs_hidden": true,
     "source_hidden": true
    }
   },
   "outputs": [
    {
     "data": {
      "text/plain": [
       "Index(['flagCode', 'country',\n",
       "       'TeacherSalary_PrimarySchoolTeacherStarting_USD_2022',\n",
       "       'TeacherSalary_PrimarySchoolTeacherTopOfScale_USD_2022',\n",
       "       'TeacherSalary_LowerSecondarySchoolTeacherStarting_USD_2022',\n",
       "       'TeacherSalary_LowerSecondarySchoolTeacherTopOfScale_USD_2022',\n",
       "       'TeacherSalary_UpperSecondarySchoolTeacherStarting_USD_2022',\n",
       "       'TeacherSalary_UpperSecondarySchoolTeacherTopOfScale_USD_2022'],\n",
       "      dtype='object')"
      ]
     },
     "execution_count": 44,
     "metadata": {},
     "output_type": "execute_result"
    }
   ],
   "source": [
    "teacher_salaries.columns"
   ]
  },
  {
   "cell_type": "code",
   "execution_count": 45,
   "id": "63c1573c-e0a0-4574-8e2f-fc72b85fb0d9",
   "metadata": {
    "collapsed": true,
    "jupyter": {
     "outputs_hidden": true,
     "source_hidden": true
    }
   },
   "outputs": [
    {
     "data": {
      "text/plain": [
       "['Australia',\n",
       " 'Austria',\n",
       " 'Brazil',\n",
       " 'Canada',\n",
       " 'Chile',\n",
       " 'Costa Rica',\n",
       " 'Czech Republic',\n",
       " 'Denmark',\n",
       " 'Estonia',\n",
       " 'Finland',\n",
       " 'France',\n",
       " 'Germany',\n",
       " 'Greece',\n",
       " 'Hungary',\n",
       " 'Ireland',\n",
       " 'Israel',\n",
       " 'Italy',\n",
       " 'Japan',\n",
       " 'Latvia',\n",
       " 'Lithuania',\n",
       " 'Luxembourg',\n",
       " 'Mexico',\n",
       " 'Netherlands',\n",
       " 'New Zealand',\n",
       " 'Norway',\n",
       " 'Poland',\n",
       " 'Portugal',\n",
       " 'Romania',\n",
       " 'Slovakia',\n",
       " 'Slovenia',\n",
       " 'South Korea',\n",
       " 'Spain',\n",
       " 'Turkey',\n",
       " 'United States']"
      ]
     },
     "execution_count": 45,
     "metadata": {},
     "output_type": "execute_result"
    }
   ],
   "source": [
    "sorted(list(teacher_salaries['country']))"
   ]
  },
  {
   "cell_type": "code",
   "execution_count": 46,
   "id": "a8f1127e-7f25-4012-8346-0a8bf5722f11",
   "metadata": {
    "jupyter": {
     "source_hidden": true
    }
   },
   "outputs": [],
   "source": [
    "teacher_salaries = teacher_salaries.rename(columns={'country':'Country',\n",
    "                                                   'TeacherSalary_PrimarySchoolTeacherStarting_USD_2022':'primary_starting',\n",
    "                                                    'TeacherSalary_PrimarySchoolTeacherTopOfScale_USD_2022':'primary_top',\n",
    "                                                    'TeacherSalary_LowerSecondarySchoolTeacherStarting_USD_2022':'lower_secondary_starting',\n",
    "                                                    'TeacherSalary_LowerSecondarySchoolTeacherTopOfScale_USD_2022':'lower_secondary_top',\n",
    "                                                    'TeacherSalary_UpperSecondarySchoolTeacherStarting_USD_2022':'upper_secondary_starting',\n",
    "                                                     'TeacherSalary_UpperSecondarySchoolTeacherTopOfScale_USD_2022':'upper_secondary_top'\n",
    "                                                   })"
   ]
  },
  {
   "cell_type": "code",
   "execution_count": 47,
   "id": "34a854fc-d68b-44b7-a07c-e8b10c9aa2c2",
   "metadata": {
    "collapsed": true,
    "jupyter": {
     "outputs_hidden": true,
     "source_hidden": true
    }
   },
   "outputs": [
    {
     "data": {
      "text/plain": [
       "Index(['Indicator', 'Country', '2022'], dtype='object')"
      ]
     },
     "execution_count": 47,
     "metadata": {},
     "output_type": "execute_result"
    }
   ],
   "source": [
    "average_salaries.columns"
   ]
  },
  {
   "cell_type": "code",
   "execution_count": 48,
   "id": "6c376d65-3388-4473-bad7-66d20c3306dc",
   "metadata": {
    "collapsed": true,
    "jupyter": {
     "outputs_hidden": true,
     "source_hidden": true
    }
   },
   "outputs": [
    {
     "data": {
      "text/plain": [
       "['Albania',\n",
       " 'Armenia',\n",
       " 'Austria',\n",
       " 'Azerbaijan',\n",
       " 'Belarus',\n",
       " 'Belgium',\n",
       " 'Bosnia and Herzegovina',\n",
       " 'Bulgaria',\n",
       " 'Canada',\n",
       " 'Croatia',\n",
       " 'Cyprus',\n",
       " 'Czechia',\n",
       " 'Denmark',\n",
       " 'Estonia',\n",
       " 'Finland',\n",
       " 'France',\n",
       " 'Georgia',\n",
       " 'Germany',\n",
       " 'Greece',\n",
       " 'Hungary',\n",
       " 'Iceland',\n",
       " 'Ireland',\n",
       " 'Israel',\n",
       " 'Italy',\n",
       " 'Kazakhstan',\n",
       " 'Kyrgyzstan',\n",
       " 'Latvia',\n",
       " 'Lithuania',\n",
       " 'Luxembourg',\n",
       " 'Malta',\n",
       " 'Montenegro',\n",
       " 'Netherlands',\n",
       " 'North Macedonia',\n",
       " 'Norway',\n",
       " 'Poland',\n",
       " 'Portugal',\n",
       " 'Republic of Moldova',\n",
       " 'Romania',\n",
       " 'Serbia',\n",
       " 'Slovakia',\n",
       " 'Slovenia',\n",
       " 'Spain',\n",
       " 'Sweden',\n",
       " 'Switzerland',\n",
       " 'Tajikistan',\n",
       " 'Turkiye',\n",
       " 'Ukraine',\n",
       " 'United Kingdom',\n",
       " 'United States',\n",
       " 'Uzbekistan']"
      ]
     },
     "execution_count": 48,
     "metadata": {},
     "output_type": "execute_result"
    }
   ],
   "source": [
    "sorted(list(average_salaries['Country']))"
   ]
  },
  {
   "cell_type": "code",
   "execution_count": 49,
   "id": "f029d88d-e4de-4620-be46-4723c69765b8",
   "metadata": {
    "jupyter": {
     "source_hidden": true
    }
   },
   "outputs": [],
   "source": [
    "average_salaries = average_salaries.replace('Turkiye', 'Turkey')\n",
    "average_salaries = average_salaries.replace('Czechia', 'Czech Republic')"
   ]
  },
  {
   "cell_type": "code",
   "execution_count": 50,
   "id": "b65105b5-ed49-44a0-ba62-e76a96e29cdf",
   "metadata": {
    "jupyter": {
     "source_hidden": true
    }
   },
   "outputs": [],
   "source": [
    "# Adding columns with annual salary = converting monthly salaries to annual so it is comparable\n",
    "average_salaries['Annual_Salary_2022'] = average_salaries['2022'] * 12"
   ]
  },
  {
   "cell_type": "code",
   "execution_count": 51,
   "id": "f26ecb5b-8599-4bd7-8fb3-f958c656fc3b",
   "metadata": {
    "jupyter": {
     "source_hidden": true
    }
   },
   "outputs": [],
   "source": [
    "average_salaries = average_salaries.drop(columns=['Indicator'])"
   ]
  },
  {
   "cell_type": "code",
   "execution_count": 52,
   "id": "4874dc7f-34de-4226-a2c5-3789eba09866",
   "metadata": {
    "jupyter": {
     "source_hidden": true
    }
   },
   "outputs": [],
   "source": [
    "average_salaries = average_salaries.rename(columns={'2022': 'Monthly_Salary_2022'})"
   ]
  },
  {
   "cell_type": "code",
   "execution_count": 53,
   "id": "c2dfe6b4-df04-4727-b206-e113d800864d",
   "metadata": {
    "collapsed": true,
    "jupyter": {
     "outputs_hidden": true,
     "source_hidden": true
    }
   },
   "outputs": [
    {
     "data": {
      "text/html": [
       "<div>\n",
       "<style scoped>\n",
       "    .dataframe tbody tr th:only-of-type {\n",
       "        vertical-align: middle;\n",
       "    }\n",
       "\n",
       "    .dataframe tbody tr th {\n",
       "        vertical-align: top;\n",
       "    }\n",
       "\n",
       "    .dataframe thead th {\n",
       "        text-align: right;\n",
       "    }\n",
       "</style>\n",
       "<table border=\"1\" class=\"dataframe\">\n",
       "  <thead>\n",
       "    <tr style=\"text-align: right;\">\n",
       "      <th></th>\n",
       "      <th>Country</th>\n",
       "      <th>Monthly_Salary_2022</th>\n",
       "      <th>Annual_Salary_2022</th>\n",
       "    </tr>\n",
       "  </thead>\n",
       "  <tbody>\n",
       "    <tr>\n",
       "      <th>0</th>\n",
       "      <td>Albania</td>\n",
       "      <td>547.6</td>\n",
       "      <td>6571.2</td>\n",
       "    </tr>\n",
       "    <tr>\n",
       "      <th>2</th>\n",
       "      <td>Armenia</td>\n",
       "      <td>540.7</td>\n",
       "      <td>6488.4</td>\n",
       "    </tr>\n",
       "    <tr>\n",
       "      <th>3</th>\n",
       "      <td>Austria</td>\n",
       "      <td>4326.3</td>\n",
       "      <td>51915.6</td>\n",
       "    </tr>\n",
       "    <tr>\n",
       "      <th>4</th>\n",
       "      <td>Azerbaijan</td>\n",
       "      <td>494.1</td>\n",
       "      <td>5929.2</td>\n",
       "    </tr>\n",
       "    <tr>\n",
       "      <th>5</th>\n",
       "      <td>Belarus</td>\n",
       "      <td>621.9</td>\n",
       "      <td>7462.8</td>\n",
       "    </tr>\n",
       "  </tbody>\n",
       "</table>\n",
       "</div>"
      ],
      "text/plain": [
       "      Country  Monthly_Salary_2022  Annual_Salary_2022\n",
       "0     Albania                547.6              6571.2\n",
       "2     Armenia                540.7              6488.4\n",
       "3     Austria               4326.3             51915.6\n",
       "4  Azerbaijan                494.1              5929.2\n",
       "5     Belarus                621.9              7462.8"
      ]
     },
     "execution_count": 53,
     "metadata": {},
     "output_type": "execute_result"
    }
   ],
   "source": [
    "average_salaries.head()"
   ]
  },
  {
   "cell_type": "code",
   "execution_count": 54,
   "id": "241f47d3-59b7-4bdc-9c3d-86b08b5c47e0",
   "metadata": {
    "collapsed": true,
    "jupyter": {
     "outputs_hidden": true,
     "source_hidden": true
    }
   },
   "outputs": [
    {
     "data": {
      "text/plain": [
       "Index(['Country', 'Mathematics', 'Reading', 'Science'], dtype='object', name=0)"
      ]
     },
     "execution_count": 54,
     "metadata": {},
     "output_type": "execute_result"
    }
   ],
   "source": [
    "pisa_mean_scores.columns"
   ]
  },
  {
   "cell_type": "code",
   "execution_count": 55,
   "id": "daec08ce-4a92-40e1-ad3d-feffbcd0c9fc",
   "metadata": {
    "collapsed": true,
    "jupyter": {
     "outputs_hidden": true,
     "source_hidden": true
    }
   },
   "outputs": [
    {
     "data": {
      "text/plain": [
       "['Albania',\n",
       " 'Argentina',\n",
       " 'Australia*',\n",
       " 'Austria',\n",
       " 'Baku (Azerbaijan)',\n",
       " 'Belgium',\n",
       " 'Brazil',\n",
       " 'Brunei Darussalam',\n",
       " 'Bulgaria',\n",
       " 'Cambodia',\n",
       " 'Canada*',\n",
       " 'Chile',\n",
       " 'Chinese Taipei',\n",
       " 'Colombia',\n",
       " 'Costa Rica',\n",
       " 'Croatia',\n",
       " 'Cyprus',\n",
       " 'Czech Republic',\n",
       " 'Denmark*',\n",
       " 'Dominican Republic',\n",
       " 'El Salvador',\n",
       " 'Estonia',\n",
       " 'Finland',\n",
       " 'France',\n",
       " 'Georgia',\n",
       " 'Germany',\n",
       " 'Greece',\n",
       " 'Guatemala',\n",
       " 'Hong Kong (China)*',\n",
       " 'Hungary',\n",
       " 'Iceland',\n",
       " 'Indonesia',\n",
       " 'Ireland*',\n",
       " 'Israel',\n",
       " 'Italy',\n",
       " 'Jamaica*',\n",
       " 'Japan',\n",
       " 'Jordan',\n",
       " 'Kazakhstan',\n",
       " 'Korea',\n",
       " 'Kosovo',\n",
       " 'Latvia*',\n",
       " 'Lithuania',\n",
       " 'Macao (China)',\n",
       " 'Malaysia',\n",
       " 'Malta',\n",
       " 'Mexico',\n",
       " 'Moldova',\n",
       " 'Mongolia',\n",
       " 'Montenegro',\n",
       " 'Morocco',\n",
       " 'Netherlands*',\n",
       " 'New Zealand*',\n",
       " 'North Macedonia',\n",
       " 'Norway',\n",
       " 'Palestinian Authority',\n",
       " 'Panama*',\n",
       " 'Paraguay',\n",
       " 'Peru',\n",
       " 'Philippines',\n",
       " 'Poland',\n",
       " 'Portugal',\n",
       " 'Qatar',\n",
       " 'Romania',\n",
       " 'Saudi Arabia',\n",
       " 'Serbia',\n",
       " 'Singapore',\n",
       " 'Slovak Republic',\n",
       " 'Slovenia',\n",
       " 'Spain',\n",
       " 'Sweden',\n",
       " 'Switzerland',\n",
       " 'Thailand',\n",
       " 'Türkiye',\n",
       " 'Ukrainian regions (18 of 27)',\n",
       " 'United Arab Emirates',\n",
       " 'United Kingdom*',\n",
       " 'United States*',\n",
       " 'Uruguay',\n",
       " 'Uzbekistan',\n",
       " 'Viet Nam**']"
      ]
     },
     "execution_count": 55,
     "metadata": {},
     "output_type": "execute_result"
    }
   ],
   "source": [
    "sorted(list(pisa_mean_scores['Country']))"
   ]
  },
  {
   "cell_type": "code",
   "execution_count": 56,
   "id": "7fa5b7f1-be8b-4bc0-8e9e-4de3159cab82",
   "metadata": {
    "jupyter": {
     "source_hidden": true
    }
   },
   "outputs": [],
   "source": [
    "# string replace Countries to remove * after Country name where present\n",
    "pisa_mean_scores['Country'] = pisa_mean_scores['Country'].str.replace('*', '', regex=False)"
   ]
  },
  {
   "cell_type": "code",
   "execution_count": 57,
   "id": "a606e3d4-1237-461e-894a-3c17dd344be8",
   "metadata": {
    "jupyter": {
     "source_hidden": true
    }
   },
   "outputs": [],
   "source": [
    "pisa_mean_scores = pisa_mean_scores.replace('Türkiye', 'Turkey')\n",
    "pisa_mean_scores = pisa_mean_scores.replace('Slovak Republic', 'Slovakia')\n",
    "pisa_mean_scores = pisa_mean_scores.replace('Korea', 'South Korea')"
   ]
  },
  {
   "cell_type": "code",
   "execution_count": 58,
   "id": "4e2ee484-a947-4622-8bd2-7035fbf00b85",
   "metadata": {
    "collapsed": true,
    "jupyter": {
     "outputs_hidden": true,
     "source_hidden": true
    }
   },
   "outputs": [
    {
     "data": {
      "text/plain": [
       "Index(['Country', 'Coverage Index 3:Coverage of 15-year-old population',\n",
       "       'Strength: Percentage of variance in mathematics performance explained by ESCS1',\n",
       "       'Percentage of disadvantaged students who are academically resilient',\n",
       "       'Difference between advantaged and disadvantaged students in mathematics'],\n",
       "      dtype='object')"
      ]
     },
     "execution_count": 58,
     "metadata": {},
     "output_type": "execute_result"
    }
   ],
   "source": [
    "pisa_socio_economic.columns"
   ]
  },
  {
   "cell_type": "code",
   "execution_count": 59,
   "id": "483cdb27-0c6a-46f0-b282-15d05afdcd9d",
   "metadata": {
    "collapsed": true,
    "jupyter": {
     "outputs_hidden": true,
     "source_hidden": true
    },
    "scrolled": true
   },
   "outputs": [
    {
     "data": {
      "text/plain": [
       "['Albania',\n",
       " 'Argentina',\n",
       " 'Australia*',\n",
       " 'Austria',\n",
       " 'Baku (Azerbaijan)',\n",
       " 'Belgium',\n",
       " 'Brazil',\n",
       " 'Brunei Darussalam',\n",
       " 'Bulgaria',\n",
       " 'Cambodia',\n",
       " 'Canada*',\n",
       " 'Chile',\n",
       " 'Chinese Taipei',\n",
       " 'Colombia',\n",
       " 'Croatia',\n",
       " 'Cyprus',\n",
       " 'Czech Republic',\n",
       " 'Denmark*',\n",
       " 'Dominican Republic',\n",
       " 'El Salvador',\n",
       " 'Estonia',\n",
       " 'Finland',\n",
       " 'France',\n",
       " 'Georgia',\n",
       " 'Germany',\n",
       " 'Greece',\n",
       " 'Guatemala',\n",
       " 'Hong Kong (China)*',\n",
       " 'Hungary',\n",
       " 'Iceland',\n",
       " 'Indonesia',\n",
       " 'Ireland*',\n",
       " 'Israel',\n",
       " 'Italy',\n",
       " 'Jamaica*',\n",
       " 'Japan',\n",
       " 'Jordan',\n",
       " 'Kazakhstan',\n",
       " 'Korea',\n",
       " 'Kosovo',\n",
       " 'Latvia*',\n",
       " 'Lithuania',\n",
       " 'Macao (China)',\n",
       " 'Malaysia',\n",
       " 'Malta',\n",
       " 'Mexico',\n",
       " 'Moldova',\n",
       " 'Mongolia',\n",
       " 'Montenegro',\n",
       " 'Morocco',\n",
       " 'Netherlands*',\n",
       " 'New Zealand*',\n",
       " 'North Macedonia',\n",
       " 'Norway',\n",
       " 'Palestinian Authority',\n",
       " 'Panama*',\n",
       " 'Paraguay',\n",
       " 'Peru',\n",
       " 'Philippines',\n",
       " 'Poland',\n",
       " 'Portugal',\n",
       " 'Qatar',\n",
       " 'Romania',\n",
       " 'Saudi Arabia',\n",
       " 'Serbia',\n",
       " 'Singapore',\n",
       " 'Slovak Republic',\n",
       " 'Slovenia',\n",
       " 'Spain',\n",
       " 'Sweden',\n",
       " 'Switzerland',\n",
       " 'Thailand',\n",
       " 'Türkiye',\n",
       " 'Ukrainian regions (18 of 27)',\n",
       " 'United Arab Emirates',\n",
       " 'United Kingdom*',\n",
       " 'United States*',\n",
       " 'Uruguay',\n",
       " 'Uzbekistan',\n",
       " 'Viet Nam']"
      ]
     },
     "execution_count": 59,
     "metadata": {},
     "output_type": "execute_result"
    }
   ],
   "source": [
    "sorted(list(pisa_socio_economic['Country']))"
   ]
  },
  {
   "cell_type": "code",
   "execution_count": 60,
   "id": "d640cc46-84ca-4958-8767-bc35ea5be73d",
   "metadata": {
    "jupyter": {
     "source_hidden": true
    }
   },
   "outputs": [],
   "source": [
    "# string replace Countries to remove * after Country name where present\n",
    "pisa_socio_economic['Country'] = pisa_socio_economic['Country'].str.replace('*', '', regex=False)"
   ]
  },
  {
   "cell_type": "code",
   "execution_count": 61,
   "id": "7fe75779-f8d8-4929-b4f0-d17d69b554f5",
   "metadata": {
    "jupyter": {
     "source_hidden": true
    }
   },
   "outputs": [],
   "source": [
    "pisa_socio_economic = pisa_socio_economic.replace('Türkiye', 'Turkey')\n",
    "pisa_socio_economic = pisa_socio_economic.replace('Slovak Republic', 'Slovakia')\n",
    "pisa_socio_economic = pisa_socio_economic.replace('Korea', 'South Korea')"
   ]
  },
  {
   "cell_type": "markdown",
   "id": "ed18f648-3971-495c-958c-5d6c4d3b6c70",
   "metadata": {},
   "source": [
    "### 3. Merge dataframes"
   ]
  },
  {
   "cell_type": "code",
   "execution_count": 62,
   "id": "d4cf0f09-b845-47df-94eb-e99b713be7d5",
   "metadata": {
    "jupyter": {
     "source_hidden": true
    }
   },
   "outputs": [],
   "source": [
    "merged_df = teacher_salaries.merge(\n",
    "    average_salaries, on='Country', how='left').merge(\n",
    "    pisa_mean_scores, on='Country', how='left').merge(\n",
    "    pisa_socio_economic, on='Country', how='left')"
   ]
  },
  {
   "cell_type": "code",
   "execution_count": 63,
   "id": "70d27760-77eb-40fc-ab30-8fc63059631f",
   "metadata": {
    "collapsed": true,
    "jupyter": {
     "outputs_hidden": true,
     "source_hidden": true
    }
   },
   "outputs": [
    {
     "data": {
      "text/html": [
       "<div>\n",
       "<style scoped>\n",
       "    .dataframe tbody tr th:only-of-type {\n",
       "        vertical-align: middle;\n",
       "    }\n",
       "\n",
       "    .dataframe tbody tr th {\n",
       "        vertical-align: top;\n",
       "    }\n",
       "\n",
       "    .dataframe thead th {\n",
       "        text-align: right;\n",
       "    }\n",
       "</style>\n",
       "<table border=\"1\" class=\"dataframe\">\n",
       "  <thead>\n",
       "    <tr style=\"text-align: right;\">\n",
       "      <th></th>\n",
       "      <th>flagCode</th>\n",
       "      <th>Country</th>\n",
       "      <th>primary_starting</th>\n",
       "      <th>primary_top</th>\n",
       "      <th>lower_secondary_starting</th>\n",
       "      <th>lower_secondary_top</th>\n",
       "      <th>upper_secondary_starting</th>\n",
       "      <th>upper_secondary_top</th>\n",
       "      <th>Monthly_Salary_2022</th>\n",
       "      <th>Annual_Salary_2022</th>\n",
       "      <th>Mathematics</th>\n",
       "      <th>Reading</th>\n",
       "      <th>Science</th>\n",
       "      <th>Coverage Index 3:Coverage of 15-year-old population</th>\n",
       "      <th>Strength: Percentage of variance in mathematics performance explained by ESCS1</th>\n",
       "      <th>Percentage of disadvantaged students who are academically resilient</th>\n",
       "      <th>Difference between advantaged and disadvantaged students in mathematics</th>\n",
       "    </tr>\n",
       "  </thead>\n",
       "  <tbody>\n",
       "    <tr>\n",
       "      <th>0</th>\n",
       "      <td>LU</td>\n",
       "      <td>Luxembourg</td>\n",
       "      <td>71647</td>\n",
       "      <td>126576.0</td>\n",
       "      <td>81200</td>\n",
       "      <td>141144.0</td>\n",
       "      <td>81200</td>\n",
       "      <td>141144.0</td>\n",
       "      <td>6605.9</td>\n",
       "      <td>79270.8</td>\n",
       "      <td>NaN</td>\n",
       "      <td>NaN</td>\n",
       "      <td>NaN</td>\n",
       "      <td>NaN</td>\n",
       "      <td>NaN</td>\n",
       "      <td>NaN</td>\n",
       "      <td>NaN</td>\n",
       "    </tr>\n",
       "    <tr>\n",
       "      <th>1</th>\n",
       "      <td>DE</td>\n",
       "      <td>Germany</td>\n",
       "      <td>70419</td>\n",
       "      <td>91713.0</td>\n",
       "      <td>77905</td>\n",
       "      <td>101510.0</td>\n",
       "      <td>81141</td>\n",
       "      <td>110694.0</td>\n",
       "      <td>3986.0</td>\n",
       "      <td>47832.0</td>\n",
       "      <td>474.826454</td>\n",
       "      <td>479.794025</td>\n",
       "      <td>492.426730</td>\n",
       "      <td>0.918940</td>\n",
       "      <td>18.701856</td>\n",
       "      <td>9.523770</td>\n",
       "      <td>111.495629</td>\n",
       "    </tr>\n",
       "    <tr>\n",
       "      <th>2</th>\n",
       "      <td>DK</td>\n",
       "      <td>Denmark</td>\n",
       "      <td>53364</td>\n",
       "      <td>61473.0</td>\n",
       "      <td>53598</td>\n",
       "      <td>61968.0</td>\n",
       "      <td>50444</td>\n",
       "      <td>65555.0</td>\n",
       "      <td>5667.9</td>\n",
       "      <td>68014.8</td>\n",
       "      <td>489.273877</td>\n",
       "      <td>488.800991</td>\n",
       "      <td>493.815712</td>\n",
       "      <td>0.835552</td>\n",
       "      <td>12.185310</td>\n",
       "      <td>10.238423</td>\n",
       "      <td>73.913598</td>\n",
       "    </tr>\n",
       "    <tr>\n",
       "      <th>3</th>\n",
       "      <td>AT</td>\n",
       "      <td>Austria</td>\n",
       "      <td>49646</td>\n",
       "      <td>86526.0</td>\n",
       "      <td>49646</td>\n",
       "      <td>92041.0</td>\n",
       "      <td>49646</td>\n",
       "      <td>102120.0</td>\n",
       "      <td>4326.3</td>\n",
       "      <td>51915.6</td>\n",
       "      <td>487.267499</td>\n",
       "      <td>480.405847</td>\n",
       "      <td>491.270959</td>\n",
       "      <td>0.887980</td>\n",
       "      <td>19.380427</td>\n",
       "      <td>8.224215</td>\n",
       "      <td>106.489929</td>\n",
       "    </tr>\n",
       "    <tr>\n",
       "      <th>4</th>\n",
       "      <td>NL</td>\n",
       "      <td>Netherlands</td>\n",
       "      <td>48805</td>\n",
       "      <td>99715.0</td>\n",
       "      <td>48662</td>\n",
       "      <td>99717.0</td>\n",
       "      <td>48662</td>\n",
       "      <td>99717.0</td>\n",
       "      <td>4565.3</td>\n",
       "      <td>54783.6</td>\n",
       "      <td>492.675639</td>\n",
       "      <td>459.242908</td>\n",
       "      <td>488.316836</td>\n",
       "      <td>0.785526</td>\n",
       "      <td>15.132955</td>\n",
       "      <td>10.637880</td>\n",
       "      <td>105.999229</td>\n",
       "    </tr>\n",
       "  </tbody>\n",
       "</table>\n",
       "</div>"
      ],
      "text/plain": [
       "  flagCode      Country  primary_starting  primary_top  \\\n",
       "0       LU   Luxembourg             71647     126576.0   \n",
       "1       DE      Germany             70419      91713.0   \n",
       "2       DK      Denmark             53364      61473.0   \n",
       "3       AT      Austria             49646      86526.0   \n",
       "4       NL  Netherlands             48805      99715.0   \n",
       "\n",
       "   lower_secondary_starting  lower_secondary_top  upper_secondary_starting  \\\n",
       "0                     81200             141144.0                     81200   \n",
       "1                     77905             101510.0                     81141   \n",
       "2                     53598              61968.0                     50444   \n",
       "3                     49646              92041.0                     49646   \n",
       "4                     48662              99717.0                     48662   \n",
       "\n",
       "   upper_secondary_top  Monthly_Salary_2022  Annual_Salary_2022  Mathematics  \\\n",
       "0             141144.0               6605.9             79270.8          NaN   \n",
       "1             110694.0               3986.0             47832.0   474.826454   \n",
       "2              65555.0               5667.9             68014.8   489.273877   \n",
       "3             102120.0               4326.3             51915.6   487.267499   \n",
       "4              99717.0               4565.3             54783.6   492.675639   \n",
       "\n",
       "      Reading     Science  \\\n",
       "0         NaN         NaN   \n",
       "1  479.794025  492.426730   \n",
       "2  488.800991  493.815712   \n",
       "3  480.405847  491.270959   \n",
       "4  459.242908  488.316836   \n",
       "\n",
       "   Coverage Index 3:Coverage of 15-year-old population  \\\n",
       "0                                                NaN     \n",
       "1                                           0.918940     \n",
       "2                                           0.835552     \n",
       "3                                           0.887980     \n",
       "4                                           0.785526     \n",
       "\n",
       "   Strength: Percentage of variance in mathematics performance explained by ESCS1  \\\n",
       "0                                                NaN                                \n",
       "1                                          18.701856                                \n",
       "2                                          12.185310                                \n",
       "3                                          19.380427                                \n",
       "4                                          15.132955                                \n",
       "\n",
       "   Percentage of disadvantaged students who are academically resilient  \\\n",
       "0                                                NaN                     \n",
       "1                                           9.523770                     \n",
       "2                                          10.238423                     \n",
       "3                                           8.224215                     \n",
       "4                                          10.637880                     \n",
       "\n",
       "   Difference between advantaged and disadvantaged students in mathematics  \n",
       "0                                                NaN                        \n",
       "1                                         111.495629                        \n",
       "2                                          73.913598                        \n",
       "3                                         106.489929                        \n",
       "4                                         105.999229                        "
      ]
     },
     "execution_count": 63,
     "metadata": {},
     "output_type": "execute_result"
    }
   ],
   "source": [
    "merged_df.head()"
   ]
  },
  {
   "cell_type": "code",
   "execution_count": 64,
   "id": "4aa6a367-8cae-4c22-81e4-9b0cc8d6fc11",
   "metadata": {
    "collapsed": true,
    "jupyter": {
     "outputs_hidden": true,
     "source_hidden": true
    }
   },
   "outputs": [
    {
     "data": {
      "text/plain": [
       "(34, 17)"
      ]
     },
     "execution_count": 64,
     "metadata": {},
     "output_type": "execute_result"
    }
   ],
   "source": [
    "merged_df.shape"
   ]
  },
  {
   "cell_type": "code",
   "execution_count": 65,
   "id": "113b7ada-5dd8-4685-8447-5fdd53c8a3ad",
   "metadata": {
    "collapsed": true,
    "jupyter": {
     "outputs_hidden": true,
     "source_hidden": true
    }
   },
   "outputs": [
    {
     "data": {
      "text/plain": [
       "flagCode                                                                          0\n",
       "Country                                                                           0\n",
       "primary_starting                                                                  0\n",
       "primary_top                                                                       3\n",
       "lower_secondary_starting                                                          0\n",
       "lower_secondary_top                                                               3\n",
       "upper_secondary_starting                                                          0\n",
       "upper_secondary_top                                                               3\n",
       "Monthly_Salary_2022                                                               8\n",
       "Annual_Salary_2022                                                                8\n",
       "Mathematics                                                                       1\n",
       "Reading                                                                           1\n",
       "Science                                                                           1\n",
       "Coverage Index 3:Coverage of 15-year-old population                               2\n",
       "Strength: Percentage of variance in mathematics performance explained by ESCS1    2\n",
       "Percentage of disadvantaged students who are academically resilient               2\n",
       "Difference between advantaged and disadvantaged students in mathematics           2\n",
       "dtype: int64"
      ]
     },
     "execution_count": 65,
     "metadata": {},
     "output_type": "execute_result"
    }
   ],
   "source": [
    "merged_df.isnull().sum()"
   ]
  },
  {
   "cell_type": "markdown",
   "id": "1537da66-69b5-4dc7-8b4a-b7f0f8c7234b",
   "metadata": {},
   "source": [
    "### 4. Univariate Analysis (Single Variable Analysis)\n",
    "* Examine the distribution of individual variables (numerical & categorical)\n",
    "* Use descriptive statistics (mean, median, mode, standard deviation)\n",
    "* Visualize data using histograms, boxplots, and bar charts"
   ]
  },
  {
   "cell_type": "markdown",
   "id": "c5428659-a5a6-4b3d-a349-afb303208b9b",
   "metadata": {},
   "source": [
    "Flag images for use in visualisations"
   ]
  },
  {
   "cell_type": "code",
   "execution_count": 95,
   "id": "0ba38ac5-fa5d-4c55-bb7c-f54a1a33f26b",
   "metadata": {
    "jupyter": {
     "source_hidden": true
    }
   },
   "outputs": [],
   "source": [
    "# Path where flags are stored\n",
    "flags_folder = '/Users/beejalparekh/Desktop/Bootcamp/_DA_course/_DA-project_/flags'"
   ]
  },
  {
   "cell_type": "code",
   "execution_count": 96,
   "id": "d17eb3ae-6f89-4112-b464-3a060d5b665c",
   "metadata": {
    "jupyter": {
     "source_hidden": true
    }
   },
   "outputs": [],
   "source": [
    "# Updated Country abbreviation to country name mapping\n",
    "country_data = {\n",
    "    \"AD\": \"Andorra\",\n",
    "    \"AE\": \"United Arab Emirates\",\n",
    "    \"AF\": \"Afghanistan\",\n",
    "    \"AG\": \"Antigua and Barbuda\",\n",
    "    \"AI\": \"Anguilla\",\n",
    "    \"AL\": \"Albania\",\n",
    "    \"AM\": \"Armenia\",\n",
    "    \"AO\": \"Angola\",\n",
    "    \"AQ\": \"Antarctica\",\n",
    "    \"AR\": \"Argentina\",\n",
    "    \"AS\": \"American Samoa\",\n",
    "    \"AT\": \"Austria\",\n",
    "    \"AU\": \"Australia\",\n",
    "    \"AW\": \"Aruba\",\n",
    "    \"AX\": \"Åland Islands\",\n",
    "    \"AZ\": \"Azerbaijan\",\n",
    "    \"BA\": \"Bosnia and Herzegovina\",\n",
    "    \"BB\": \"Barbados\",\n",
    "    \"BD\": \"Bangladesh\",\n",
    "    \"BE\": \"Belgium\",\n",
    "    \"BF\": \"Burkina Faso\",\n",
    "    \"BG\": \"Bulgaria\",\n",
    "    \"BH\": \"Bahrain\",\n",
    "    \"BI\": \"Burundi\",\n",
    "    \"BJ\": \"Benin\",\n",
    "    \"BL\": \"Saint Barthélemy\",\n",
    "    \"BM\": \"Bermuda\",\n",
    "    \"BN\": \"Brunei Darussalam\",\n",
    "    \"BO\": \"Bolivia, Plurinational State of\",\n",
    "    \"BQ\": \"Caribbean Netherlands\",\n",
    "    \"BR\": \"Brazil\",\n",
    "    \"BS\": \"Bahamas\",\n",
    "    \"BT\": \"Bhutan\",\n",
    "    \"BV\": \"Bouvet Island\",\n",
    "    \"BW\": \"Botswana\",\n",
    "    \"BY\": \"Belarus\",\n",
    "    \"BZ\": \"Belize\",\n",
    "    \"CA\": \"Canada\",\n",
    "    \"CC\": \"Cocos (Keeling) Islands\",\n",
    "    \"CD\": \"Congo, the Democratic Republic of the\",\n",
    "    \"CF\": \"Central African Republic\",\n",
    "    \"CG\": \"Republic of the Congo\",\n",
    "    \"CH\": \"Switzerland\",\n",
    "    \"CI\": \"Côte d'Ivoire\",\n",
    "    \"CK\": \"Cook Islands\",\n",
    "    \"CL\": \"Chile\",\n",
    "    \"CM\": \"Cameroon\",\n",
    "    \"CN\": \"China (People's Republic of China)\",\n",
    "    \"CO\": \"Colombia\",\n",
    "    \"CR\": \"Costa Rica\",\n",
    "    \"CU\": \"Cuba\",\n",
    "    \"CV\": \"Cape Verde\",\n",
    "    \"CW\": \"Curaçao\",\n",
    "    \"CX\": \"Christmas Island\",\n",
    "    \"CY\": \"Cyprus\",\n",
    "    \"CZ\": \"Czech Republic\",\n",
    "    \"DE\": \"Germany\",\n",
    "    \"DJ\": \"Djibouti\",\n",
    "    \"DK\": \"Denmark\",\n",
    "    \"DM\": \"Dominica\",\n",
    "    \"DO\": \"Dominican Republic\",\n",
    "    \"DZ\": \"Algeria\",\n",
    "    \"EC\": \"Ecuador\",\n",
    "    \"EE\": \"Estonia\",\n",
    "    \"EG\": \"Egypt\",\n",
    "    \"EH\": \"Western Sahara\",\n",
    "    \"ER\": \"Eritrea\",\n",
    "    \"ES\": \"Spain\",\n",
    "    \"ET\": \"Ethiopia\",\n",
    "    \"EU\": \"Europe\",\n",
    "    \"FI\": \"Finland\",\n",
    "    \"FJ\": \"Fiji\",\n",
    "    \"FK\": \"Falkland Islands (Malvinas)\",\n",
    "    \"FM\": \"Micronesia, Federated States of\",\n",
    "    \"FO\": \"Faroe Islands\",\n",
    "    \"FR\": \"France\",\n",
    "    \"GA\": \"Gabon\",\n",
    "    \"GB-ENG\": \"England\",\n",
    "    \"GB-NIR\": \"Northern Ireland\",\n",
    "    \"GB-SCT\": \"Scotland\",\n",
    "    \"GB-WLS\": \"Wales\",\n",
    "    \"GB\": \"United Kingdom\",\n",
    "    \"GD\": \"Grenada\",\n",
    "    \"GE\": \"Georgia\",\n",
    "    \"GF\": \"French Guiana\",\n",
    "    \"GG\": \"Guernsey\",\n",
    "    \"GH\": \"Ghana\",\n",
    "    \"GI\": \"Gibraltar\",\n",
    "    \"GL\": \"Greenland\",\n",
    "    \"GM\": \"Gambia\",\n",
    "    \"GN\": \"Guinea\",\n",
    "    \"GP\": \"Guadeloupe\",\n",
    "    \"GQ\": \"Equatorial Guinea\",\n",
    "    \"GR\": \"Greece\",\n",
    "    \"GS\": \"South Georgia and the South Sandwich Islands\",\n",
    "    \"GT\": \"Guatemala\",\n",
    "    \"GU\": \"Guam\",\n",
    "    \"GW\": \"Guinea-Bissau\",\n",
    "    \"GY\": \"Guyana\",\n",
    "    \"HK\": \"Hong Kong\",\n",
    "    \"HM\": \"Heard Island and McDonald Islands\",\n",
    "    \"HN\": \"Honduras\",\n",
    "    \"HR\": \"Croatia\",\n",
    "    \"HT\": \"Haiti\",\n",
    "    \"HU\": \"Hungary\",\n",
    "    \"ID\": \"Indonesia\",\n",
    "    \"IE\": \"Ireland\",\n",
    "    \"IL\": \"Israel\",\n",
    "    \"IM\": \"Isle of Man\",\n",
    "    \"IN\": \"India\",\n",
    "    \"IO\": \"British Indian Ocean Territory\",\n",
    "    \"IQ\": \"Iraq\",\n",
    "    \"IR\": \"Iran, Islamic Republic of\",\n",
    "    \"IS\": \"Iceland\",\n",
    "    \"IT\": \"Italy\",\n",
    "    \"JE\": \"Jersey\",\n",
    "    \"JM\": \"Jamaica\",\n",
    "    \"JO\": \"Jordan\",\n",
    "    \"JP\": \"Japan\",\n",
    "    \"KE\": \"Kenya\",\n",
    "    \"KG\": \"Kyrgyzstan\",\n",
    "    \"KH\": \"Cambodia\",\n",
    "    \"KI\": \"Kiribati\",\n",
    "    \"KM\": \"Comoros\",\n",
    "    \"KN\": \"Saint Kitts and Nevis\",\n",
    "    \"KP\": \"Korea, Democratic People's Republic of\",\n",
    "    \"KR\": \"South Korea\",\n",
    "    \"KW\": \"Kuwait\",\n",
    "    \"KY\": \"Cayman Islands\",\n",
    "    \"KZ\": \"Kazakhstan\",\n",
    "    \"LA\": \"Laos (Lao People's Democratic Republic)\",\n",
    "    \"LB\": \"Lebanon\",\n",
    "    \"LC\": \"Saint Lucia\",\n",
    "    \"LI\": \"Liechtenstein\",\n",
    "    \"LK\": \"Sri Lanka\",\n",
    "    \"LR\": \"Liberia\",\n",
    "    \"LS\": \"Lesotho\",\n",
    "    \"LT\": \"Lithuania\",\n",
    "    \"LU\": \"Luxembourg\",\n",
    "    \"LV\": \"Latvia\",\n",
    "    \"LY\": \"Libya\",\n",
    "    \"MA\": \"Morocco\",\n",
    "    \"MC\": \"Monaco\",\n",
    "    \"MD\": \"Moldova, Republic of\",\n",
    "    \"ME\": \"Montenegro\",\n",
    "    \"MF\": \"Saint Martin\",\n",
    "    \"MG\": \"Madagascar\",\n",
    "    \"MH\": \"Marshall Islands\",\n",
    "    \"MK\": \"North Macedonia\",\n",
    "    \"ML\": \"Mali\",\n",
    "    \"MM\": \"Myanmar\",\n",
    "    \"MN\": \"Mongolia\",\n",
    "    \"MO\": \"Macao\",\n",
    "    \"MP\": \"Northern Mariana Islands\",\n",
    "    \"MQ\": \"Martinique\",\n",
    "    \"MR\": \"Mauritania\",\n",
    "    \"MS\": \"Montserrat\",\n",
    "    \"MT\": \"Malta\",\n",
    "    \"MU\": \"Mauritius\",\n",
    "    \"MV\": \"Maldives\",\n",
    "    \"MW\": \"Malawi\",\n",
    "    \"MX\": \"Mexico\",\n",
    "    \"MY\": \"Malaysia\",\n",
    "    \"MZ\": \"Mozambique\",\n",
    "    \"NA\": \"Namibia\",\n",
    "    \"NC\": \"New Caledonia\",\n",
    "    \"NE\": \"Niger\",\n",
    "    \"NF\": \"Norfolk Island\",\n",
    "    \"NG\": \"Nigeria\",\n",
    "    \"NI\": \"Nicaragua\",\n",
    "    \"NL\": \"Netherlands\",\n",
    "    \"NO\": \"Norway\",\n",
    "    \"NP\": \"Nepal\",\n",
    "    \"NR\": \"Nauru\",\n",
    "    \"NU\": \"Niue\",\n",
    "    \"NZ\": \"New Zealand\",\n",
    "    \"OM\": \"Oman\",\n",
    "    \"PA\": \"Panama\",\n",
    "    \"PE\": \"Peru\",\n",
    "    \"PF\": \"French Polynesia\",\n",
    "    \"PG\": \"Papua New Guinea\",\n",
    "    \"PH\": \"Philippines\",\n",
    "    \"PK\": \"Pakistan\",\n",
    "    \"PL\": \"Poland\",\n",
    "    \"PM\": \"Saint Pierre and Miquelon\",\n",
    "    \"PN\": \"Pitcairn\",\n",
    "    \"PR\": \"Puerto Rico\",\n",
    "    \"PS\": \"Palestine\",\n",
    "    \"PT\": \"Portugal\",\n",
    "    \"PW\": \"Palau\",\n",
    "    \"PY\": \"Paraguay\",\n",
    "    \"QA\": \"Qatar\",\n",
    "    \"RE\": \"Réunion\",\n",
    "    \"RO\": \"Romania\",\n",
    "    \"RS\": \"Serbia\",\n",
    "    \"RU\": \"Russian Federation\",\n",
    "    \"RW\": \"Rwanda\",\n",
    "    \"SA\": \"Saudi Arabia\",\n",
    "    \"SB\": \"Solomon Islands\",\n",
    "    \"SC\": \"Seychelles\",\n",
    "    \"SD\": \"Sudan\",\n",
    "    \"SE\": \"Sweden\",\n",
    "    \"SG\": \"Singapore\",\n",
    "    \"SH\": \"Saint Helena, Ascension and Tristan da Cunha\",\n",
    "    \"SI\": \"Slovenia\",\n",
    "    \"SJ\": \"Svalbard and Jan Mayen Islands\",\n",
    "    \"SK\": \"Slovakia\",\n",
    "    \"SL\": \"Sierra Leone\",\n",
    "    \"SM\": \"San Marino\",\n",
    "    \"SN\": \"Senegal\",\n",
    "    \"SO\": \"Somalia\",\n",
    "    \"SR\": \"Suriname\",\n",
    "    \"SS\": \"South Sudan\",\n",
    "    \"ST\": \"Sao Tome and Principe\",\n",
    "    \"SV\": \"El Salvador\",\n",
    "    \"SX\": \"Sint Maarten (Dutch part)\",\n",
    "    \"SY\": \"Syrian Arab Republic\",\n",
    "    \"SZ\": \"Eswatini\",\n",
    "    \"TC\": \"Turks and Caicos Islands\",\n",
    "    \"TD\": \"Chad\",\n",
    "    \"TF\": \"French Southern Territories\",\n",
    "    \"TG\": \"Togo\",\n",
    "    \"TH\": \"Thailand\",\n",
    "    \"TJ\": \"Tajikistan\",\n",
    "    \"TK\": \"Tokelau\",\n",
    "    \"TL\": \"Timor-Leste\",\n",
    "    \"TM\": \"Turkmenistan\",\n",
    "    \"TN\": \"Tunisia\",\n",
    "    \"TO\": \"Tonga\",\n",
    "    \"TR\": \"Turkey\",\n",
    "    \"TT\": \"Trinidad and Tobago\",\n",
    "    \"TV\": \"Tuvalu\",\n",
    "    \"TW\": \"Taiwan\",\n",
    "    \"TZ\": \"Tanzania, United Republic of\",\n",
    "    \"UA\": \"Ukraine\",\n",
    "    \"UG\": \"Uganda\",\n",
    "    \"UM\": \"US Minor Outlying Islands\",\n",
    "    \"US\": \"United States\",\n",
    "    \"UY\": \"Uruguay\",\n",
    "    \"UZ\": \"Uzbekistan\",\n",
    "    \"VA\": \"Holy See (Vatican City State)\",\n",
    "    \"VC\": \"Saint Vincent and the Grenadines\",\n",
    "    \"VE\": \"Venezuela, Bolivarian Republic of\",\n",
    "    \"VG\": \"Virgin Islands, British\",\n",
    "    \"VI\": \"Virgin Islands, U.S.\",\n",
    "    \"VN\": \"Vietnam\",\n",
    "    \"VU\": \"Vanuatu\",\n",
    "    \"WF\": \"Wallis and Futuna Islands\",\n",
    "    \"WS\": \"Samoa\",\n",
    "    \"XK\": \"Kosovo\",\n",
    "    \"YE\": \"Yemen\",\n",
    "    \"YT\": \"Mayotte\",\n",
    "    \"ZA\": \"South Africa\",\n",
    "    \"ZM\": \"Zambia\",\n",
    "    \"ZW\": \"Zimbabwe\"\n",
    "}"
   ]
  },
  {
   "cell_type": "code",
   "execution_count": 97,
   "id": "075f4d70-a1fa-4df7-b1a2-55f2c17b8f8d",
   "metadata": {
    "jupyter": {
     "source_hidden": true
    }
   },
   "outputs": [],
   "source": [
    "# Create dictionary to map country name to flag file name (in lowercase .svg)\n",
    "country_flags = {country: f\"{code.lower()}.svg\" for code, country in country_data.items()}"
   ]
  },
  {
   "cell_type": "code",
   "execution_count": 98,
   "id": "7389b32b-a156-4674-bb05-33b1449e14d8",
   "metadata": {
    "jupyter": {
     "source_hidden": true
    }
   },
   "outputs": [],
   "source": [
    "# To get a country flag file path\n",
    "def get_flag_file(country_name):\n",
    "    flag_filename = country_flags.get(country_name)\n",
    "    if flag_filename:\n",
    "        return f\"{flags_folder}/{flag_filename}\"\n",
    "    else:\n",
    "        return None"
   ]
  },
  {
   "cell_type": "code",
   "execution_count": 103,
   "id": "f7da852e-b403-4e0a-bf5a-7c1fc314960f",
   "metadata": {},
   "outputs": [
    {
     "ename": "NameError",
     "evalue": "name 'flag_files' is not defined",
     "output_type": "error",
     "traceback": [
      "\u001b[0;31m---------------------------------------------------------------------------\u001b[0m",
      "\u001b[0;31mNameError\u001b[0m                                 Traceback (most recent call last)",
      "Cell \u001b[0;32mIn[103], line 1\u001b[0m\n\u001b[0;32m----> 1\u001b[0m \u001b[43mflag_files\u001b[49m\n",
      "\u001b[0;31mNameError\u001b[0m: name 'flag_files' is not defined"
     ]
    }
   ],
   "source": [
    "flag_files = {\n",
    "    'Luxembourg': 'Luxembourg.png',\n",
    "    'Germany': 'Germany.svg',\n",
    "    'Denmark': 'Denmark.svg',\n",
    "    'Austria': 'Austria.svg',\n",
    "    'Netherlands': 'Netherlands.svg',\n",
    "    'Australia': 'Australia.svg',\n",
    "    'Turkey': 'Turkey.svg',\n",
    "    'United States': 'USA.svg',\n",
    "    'Spain': 'Spain.svg',\n",
    "    'Norway': 'Norway.svg',\n",
    "    'Canada': 'Canada.svg',\n",
    "    'Finland': 'Finland.png',\n",
    "    'Ireland': 'Ireland.svg',\n",
    "    'New Zealand': 'New_Zealand.svg',\n",
    "    'France': 'France.svg',\n",
    "    'Portugal': 'Portugal.svg',\n",
    "    'South Korea': 'South_Korea.svg',\n",
    "    'Lithuania': 'Lithuania.svg',\n",
    "    'Italy': 'Italy.svg',\n",
    "    'Slovenia': 'Slovenia.svg',\n",
    "    'Japan': 'Japan.svg',\n",
    "    'Czech Republic': 'Czech_Republic.svg',\n",
    "    'Estonia': 'Estonia.svg',\n",
    "    'Chile': 'Chile.svg',\n",
    "    'Costa Rica': 'Costa_Rica.svg',\n",
    "    'Albania': 'Albania.svg',\n",
    "    'Armenia': 'Armenia.svg',\n",
    "    'Azerbaijan': 'Azerbaijan.svg',\n",
    "    'Belarus': 'Belarus.svg',\n",
    "    'Belgium': 'Belgium.svg',\n",
    "    'Bosnia and Herzegovina': 'Bosnia_and_Herzegovina.svg',\n",
    "    'Bulgaria': 'Bulgaria.svg',\n",
    "    'Croatia': 'Croatia.svg',\n",
    "    'Cyprus': 'Cyprus.svg',\n",
    "    'Georgia': 'Georgia.svg',\n",
    "    'Greece': 'Greece.svg',\n",
    "    'Hungary': 'Hungary.svg',\n",
    "    'Iceland': 'Iceland.svg',\n",
    "    'Israel': 'Israel.svg',\n",
    "    'Kazakhstan': 'Kazakhstan.svg',\n",
    "    'Kyrgyzstan': 'Kyrgyzstan.svg',\n",
    "    'Latvia': 'Latvia.svg',\n",
    "    'Malta': 'Malta.svg',\n",
    "    'Montenegro': 'Montenegro.svg',\n",
    "    'North Macedonia': 'North_Macedonia.svg',\n",
    "    'Poland': 'Poland.svg',\n",
    "    'Republic of Moldova': 'Moldova.svg',\n",
    "    'Romania': 'Romania.svg',\n",
    "    'Serbia': 'Serbia.svg',\n",
    "    'Slovakia': 'https://upload.wikimedia.org/wikipedia/commons/e/e6/Flag_of_Slovakia.svg',\n",
    "    'Sweden': 'https://upload.wikimedia.org/wikipedia/commons/4/4c/Flag_of_Sweden.svg',\n",
    "    'Switzerland': 'https://upload.wikimedia.org/wikipedia/commons/f/f1/Flag_of_Switzerland.svg',\n",
    "    'Tajikistan': 'https://upload.wikimedia.org/wikipedia/commons/d/d6/Flag_of_Tajikistan.svg',\n",
    "    'Ukraine': 'https://upload.wikimedia.org/wikipedia/commons/4/49/Flag_of_Ukraine.svg',\n",
    "    'United Kingdom': 'https://upload.wikimedia.org/wikipedia/commons/a/a4/Flag_of_the_United_Kingdom.svg',\n",
    "    'Uzbekistan': 'https://upload.wikimedia.org/wikipedia/commons/8/84/Flag_of_Uzbekistan.svg',\n",
    "    'Mexico': 'https://upload.wikimedia.org/wikipedia/commons/f/fc/Flag_of_Mexico.svg',\n",
    "    'Brazil': 'https://upload.wikimedia.org/wikipedia/commons/0/05/Flag_of_Brazil.svg',\n",
    "    'Singapore': 'https://upload.wikimedia.org/wikipedia/commons/4/48/Flag_of_Singapore.svg',\n",
    "    'Viet Nam': 'https://upload.wikimedia.org/wikipedia/commons/2/21/Flag_of_Vietnam.svg',\n",
    "    'Brunei Darussalam': 'https://upload.wikimedia.org/wikipedia/commons/9/9a/Flag_of_Brunei.svg',\n",
    "    'United Arab Emirates': 'https://upload.wikimedia.org/wikipedia/commons/4/47/Flag_of_the_United_Arab_Emirates.svg',\n",
    "    'Mongolia': 'https://upload.wikimedia.org/wikipedia/commons/4/4c/Flag_of_Mongolia.svg',\n",
    "    'Qatar': 'https://upload.wikimedia.org/wikipedia/commons/6/65/Flag_of_Qatar.svg',\n",
    "    'Uruguay': 'https://upload.wikimedia.org/wikipedia/commons/3/38/Flag_of_Uruguay.svg',\n",
    "    'Malaysia': 'https://upload.wikimedia.org/wikipedia/commons/6/66/Flag_of_Malaysia.svg',\n",
    "    'Thailand': 'https://upload.wikimedia.org/wikipedia/commons/a/a9/Flag_of_Thailand.svg',\n",
    "    'Peru': 'https://upload.wikimedia.org/wikipedia/commons/c/cf/Flag_of_Peru.svg',\n",
    "    'Saudi Arabia': 'https://upload.wikimedia.org/wikipedia/commons/6/63/Flag_of_Saudi_Arabia.svg',\n",
    "    'Colombia': 'https://upload.wikimedia.org/wikipedia/commons/2/21/Flag_of_Colombia.svg',\n",
    "    'Argentina': 'https://upload.wikimedia.org/wikipedia/commons/1/1a/Flag_of_Argentina.svg',\n",
    "    'Jamaica': 'https://upload.wikimedia.org/wikipedia/commons/0/0a/Flag_of_Jamaica.svg',\n",
    "    'Indonesia': 'https://upload.wikimedia.org/wikipedia/commons/9/9f/Flag_of_Indonesia.svg',\n",
    "    'Morocco': 'https://upload.wikimedia.org/wikipedia/commons/2/2c/Flag_of_Morocco.svg',\n",
    "    'Philippines': 'https://upload.wikimedia.org/wikipedia/commons/9/99/Flag_of_the_Philippines.svg',\n",
    "    'Guatemala': 'https://upload.wikimedia.org/wikipedia/commons/7/7d/Flag_of_Guatemala.svg',\n",
    "    'El Salvador': 'https://upload.wikimedia.org/wikipedia/commons/3/3d/Flag_of_El_Salvador.svg',\n",
    "    'Dominican Republic': 'https://upload.wikimedia.org/wikipedia/commons/a/a9/Flag_of_the_Dominican_Republic.svg',\n",
    "    'Paraguay': 'https://upload.wikimedia.org/wikipedia/commons/6/63/Flag_of_Paraguay.svg',\n",
    "    'Cambodia': 'https://upload.wikimedia.org/wikipedia/commons/8/83/Flag_of_Cambodia.svg',\n",
    "    'Macao (China)': 'https://upload.wikimedia.org/wikipedia/commons/1/1f/Flag_of_Macau.svg',\n",
    "    'Chinese Taipei': 'https://upload.wikimedia.org/wikipedia/commons/0/09/Flag_of_Taiwan.svg',\n",
    "    'Hong Kong (China)': 'https://upload.wikimedia.org/wikipedia/commons/5/5c/Flag_of_Hong_Kong.svg',\n",
    "    'Kosovo': 'https://upload.wikimedia.org/wikipedia/commons/1/1f/Flag_of_Kosovo.svg',\n",
    "    'Palestinian Authority': 'https://upload.wikimedia.org/wikipedia/commons/0/01/Flag_of_Palestine.svg',\n",
    "    'Cyprus': 'https://upload.wikimedia.org/wikipedia/commons/d/d4/Flag_of_Cyprus.svg',\n",
    "    'Baku (Azerbaijan)': 'https://upload.wikimedia.org/wikipedia/commons/1/1c/Flag_of_Azerbaijan.svg',\n",
    "    'Ukrainian regions (18 of 27)': 'https://upload.wikimedia.org/wikipedia/commons/4/49/Flag_of_Ukraine.svg',\n",
    "    'Chinese Taipei': 'https://upload.wikimedia.org/wikipedia/commons/0/09/Flag_of_Taiwan.svg'\n",
    "}"
   ]
  },
  {
   "cell_type": "markdown",
   "id": "147229cd-fd41-4db8-b04b-d6d9b22112fe",
   "metadata": {},
   "source": [
    "Describe each dataframe"
   ]
  },
  {
   "cell_type": "code",
   "execution_count": 66,
   "id": "7a088023-c2a6-4b9b-9897-09b6c25618ef",
   "metadata": {
    "collapsed": true,
    "jupyter": {
     "outputs_hidden": true,
     "source_hidden": true
    },
    "scrolled": true
   },
   "outputs": [
    {
     "data": {
      "text/html": [
       "<div>\n",
       "<style scoped>\n",
       "    .dataframe tbody tr th:only-of-type {\n",
       "        vertical-align: middle;\n",
       "    }\n",
       "\n",
       "    .dataframe tbody tr th {\n",
       "        vertical-align: top;\n",
       "    }\n",
       "\n",
       "    .dataframe thead th {\n",
       "        text-align: right;\n",
       "    }\n",
       "</style>\n",
       "<table border=\"1\" class=\"dataframe\">\n",
       "  <thead>\n",
       "    <tr style=\"text-align: right;\">\n",
       "      <th></th>\n",
       "      <th>primary_starting</th>\n",
       "      <th>primary_top</th>\n",
       "      <th>lower_secondary_starting</th>\n",
       "      <th>lower_secondary_top</th>\n",
       "      <th>upper_secondary_starting</th>\n",
       "      <th>upper_secondary_top</th>\n",
       "    </tr>\n",
       "  </thead>\n",
       "  <tbody>\n",
       "    <tr>\n",
       "      <th>count</th>\n",
       "      <td>34.000000</td>\n",
       "      <td>31.000000</td>\n",
       "      <td>34.000000</td>\n",
       "      <td>31.000000</td>\n",
       "      <td>34.000000</td>\n",
       "      <td>31.000000</td>\n",
       "    </tr>\n",
       "    <tr>\n",
       "      <th>mean</th>\n",
       "      <td>34733.882353</td>\n",
       "      <td>59690.870968</td>\n",
       "      <td>35884.058824</td>\n",
       "      <td>61841.741935</td>\n",
       "      <td>37080.441176</td>\n",
       "      <td>63385.064516</td>\n",
       "    </tr>\n",
       "    <tr>\n",
       "      <th>std</th>\n",
       "      <td>14038.706920</td>\n",
       "      <td>23355.325398</td>\n",
       "      <td>15481.209556</td>\n",
       "      <td>25237.066289</td>\n",
       "      <td>15906.066897</td>\n",
       "      <td>25838.703147</td>\n",
       "    </tr>\n",
       "    <tr>\n",
       "      <th>min</th>\n",
       "      <td>16137.000000</td>\n",
       "      <td>21636.000000</td>\n",
       "      <td>16137.000000</td>\n",
       "      <td>21636.000000</td>\n",
       "      <td>16137.000000</td>\n",
       "      <td>21636.000000</td>\n",
       "    </tr>\n",
       "    <tr>\n",
       "      <th>25%</th>\n",
       "      <td>23821.750000</td>\n",
       "      <td>42944.500000</td>\n",
       "      <td>25410.000000</td>\n",
       "      <td>45265.000000</td>\n",
       "      <td>26090.750000</td>\n",
       "      <td>46136.000000</td>\n",
       "    </tr>\n",
       "    <tr>\n",
       "      <th>50%</th>\n",
       "      <td>33321.000000</td>\n",
       "      <td>56125.000000</td>\n",
       "      <td>33993.000000</td>\n",
       "      <td>57208.000000</td>\n",
       "      <td>34600.500000</td>\n",
       "      <td>60106.000000</td>\n",
       "    </tr>\n",
       "    <tr>\n",
       "      <th>75%</th>\n",
       "      <td>44264.500000</td>\n",
       "      <td>73356.000000</td>\n",
       "      <td>45290.500000</td>\n",
       "      <td>73356.000000</td>\n",
       "      <td>48137.750000</td>\n",
       "      <td>73356.000000</td>\n",
       "    </tr>\n",
       "    <tr>\n",
       "      <th>max</th>\n",
       "      <td>71647.000000</td>\n",
       "      <td>126576.000000</td>\n",
       "      <td>81200.000000</td>\n",
       "      <td>141144.000000</td>\n",
       "      <td>81200.000000</td>\n",
       "      <td>141144.000000</td>\n",
       "    </tr>\n",
       "  </tbody>\n",
       "</table>\n",
       "</div>"
      ],
      "text/plain": [
       "       primary_starting    primary_top  lower_secondary_starting  \\\n",
       "count         34.000000      31.000000                 34.000000   \n",
       "mean       34733.882353   59690.870968              35884.058824   \n",
       "std        14038.706920   23355.325398              15481.209556   \n",
       "min        16137.000000   21636.000000              16137.000000   \n",
       "25%        23821.750000   42944.500000              25410.000000   \n",
       "50%        33321.000000   56125.000000              33993.000000   \n",
       "75%        44264.500000   73356.000000              45290.500000   \n",
       "max        71647.000000  126576.000000              81200.000000   \n",
       "\n",
       "       lower_secondary_top  upper_secondary_starting  upper_secondary_top  \n",
       "count            31.000000                 34.000000            31.000000  \n",
       "mean          61841.741935              37080.441176         63385.064516  \n",
       "std           25237.066289              15906.066897         25838.703147  \n",
       "min           21636.000000              16137.000000         21636.000000  \n",
       "25%           45265.000000              26090.750000         46136.000000  \n",
       "50%           57208.000000              34600.500000         60106.000000  \n",
       "75%           73356.000000              48137.750000         73356.000000  \n",
       "max          141144.000000              81200.000000        141144.000000  "
      ]
     },
     "execution_count": 66,
     "metadata": {},
     "output_type": "execute_result"
    }
   ],
   "source": [
    "teacher_salaries.describe()"
   ]
  },
  {
   "cell_type": "code",
   "execution_count": 67,
   "id": "4ba51203-348d-4161-91d4-04743acbb6d2",
   "metadata": {
    "collapsed": true,
    "jupyter": {
     "outputs_hidden": true,
     "source_hidden": true
    }
   },
   "outputs": [
    {
     "data": {
      "text/html": [
       "<div>\n",
       "<style scoped>\n",
       "    .dataframe tbody tr th:only-of-type {\n",
       "        vertical-align: middle;\n",
       "    }\n",
       "\n",
       "    .dataframe tbody tr th {\n",
       "        vertical-align: top;\n",
       "    }\n",
       "\n",
       "    .dataframe thead th {\n",
       "        text-align: right;\n",
       "    }\n",
       "</style>\n",
       "<table border=\"1\" class=\"dataframe\">\n",
       "  <thead>\n",
       "    <tr style=\"text-align: right;\">\n",
       "      <th></th>\n",
       "      <th>Monthly_Salary_2022</th>\n",
       "      <th>Annual_Salary_2022</th>\n",
       "    </tr>\n",
       "  </thead>\n",
       "  <tbody>\n",
       "    <tr>\n",
       "      <th>count</th>\n",
       "      <td>50.000000</td>\n",
       "      <td>50.00000</td>\n",
       "    </tr>\n",
       "    <tr>\n",
       "      <th>mean</th>\n",
       "      <td>2506.910000</td>\n",
       "      <td>30082.92000</td>\n",
       "    </tr>\n",
       "    <tr>\n",
       "      <th>std</th>\n",
       "      <td>2050.915921</td>\n",
       "      <td>24610.99105</td>\n",
       "    </tr>\n",
       "    <tr>\n",
       "      <th>min</th>\n",
       "      <td>159.600000</td>\n",
       "      <td>1915.20000</td>\n",
       "    </tr>\n",
       "    <tr>\n",
       "      <th>25%</th>\n",
       "      <td>919.075000</td>\n",
       "      <td>11028.90000</td>\n",
       "    </tr>\n",
       "    <tr>\n",
       "      <th>50%</th>\n",
       "      <td>1754.650000</td>\n",
       "      <td>21055.80000</td>\n",
       "    </tr>\n",
       "    <tr>\n",
       "      <th>75%</th>\n",
       "      <td>4081.675000</td>\n",
       "      <td>48980.10000</td>\n",
       "    </tr>\n",
       "    <tr>\n",
       "      <th>max</th>\n",
       "      <td>8156.500000</td>\n",
       "      <td>97878.00000</td>\n",
       "    </tr>\n",
       "  </tbody>\n",
       "</table>\n",
       "</div>"
      ],
      "text/plain": [
       "       Monthly_Salary_2022  Annual_Salary_2022\n",
       "count            50.000000            50.00000\n",
       "mean           2506.910000         30082.92000\n",
       "std            2050.915921         24610.99105\n",
       "min             159.600000          1915.20000\n",
       "25%             919.075000         11028.90000\n",
       "50%            1754.650000         21055.80000\n",
       "75%            4081.675000         48980.10000\n",
       "max            8156.500000         97878.00000"
      ]
     },
     "execution_count": 67,
     "metadata": {},
     "output_type": "execute_result"
    }
   ],
   "source": [
    "average_salaries.describe()"
   ]
  },
  {
   "cell_type": "code",
   "execution_count": 68,
   "id": "8feada4b-4688-4480-b684-8920c58a5154",
   "metadata": {
    "collapsed": true,
    "jupyter": {
     "outputs_hidden": true,
     "source_hidden": true
    }
   },
   "outputs": [
    {
     "data": {
      "text/html": [
       "<div>\n",
       "<style scoped>\n",
       "    .dataframe tbody tr th:only-of-type {\n",
       "        vertical-align: middle;\n",
       "    }\n",
       "\n",
       "    .dataframe tbody tr th {\n",
       "        vertical-align: top;\n",
       "    }\n",
       "\n",
       "    .dataframe thead th {\n",
       "        text-align: right;\n",
       "    }\n",
       "</style>\n",
       "<table border=\"1\" class=\"dataframe\">\n",
       "  <thead>\n",
       "    <tr style=\"text-align: right;\">\n",
       "      <th></th>\n",
       "      <th>Mathematics</th>\n",
       "      <th>Reading</th>\n",
       "      <th>Science</th>\n",
       "    </tr>\n",
       "  </thead>\n",
       "  <tbody>\n",
       "    <tr>\n",
       "      <th>count</th>\n",
       "      <td>81.000000</td>\n",
       "      <td>81.000000</td>\n",
       "      <td>81.000000</td>\n",
       "    </tr>\n",
       "    <tr>\n",
       "      <th>mean</th>\n",
       "      <td>437.628343</td>\n",
       "      <td>435.037609</td>\n",
       "      <td>446.893447</td>\n",
       "    </tr>\n",
       "    <tr>\n",
       "      <th>std</th>\n",
       "      <td>58.219290</td>\n",
       "      <td>56.104746</td>\n",
       "      <td>55.724806</td>\n",
       "    </tr>\n",
       "    <tr>\n",
       "      <th>min</th>\n",
       "      <td>336.396041</td>\n",
       "      <td>328.842780</td>\n",
       "      <td>347.104162</td>\n",
       "    </tr>\n",
       "    <tr>\n",
       "      <th>25%</th>\n",
       "      <td>388.781607</td>\n",
       "      <td>386.284748</td>\n",
       "      <td>403.130242</td>\n",
       "    </tr>\n",
       "    <tr>\n",
       "      <th>50%</th>\n",
       "      <td>440.845309</td>\n",
       "      <td>438.440625</td>\n",
       "      <td>446.926795</td>\n",
       "    </tr>\n",
       "    <tr>\n",
       "      <th>75%</th>\n",
       "      <td>483.159455</td>\n",
       "      <td>480.405847</td>\n",
       "      <td>493.549319</td>\n",
       "    </tr>\n",
       "    <tr>\n",
       "      <th>max</th>\n",
       "      <td>574.663820</td>\n",
       "      <td>542.553322</td>\n",
       "      <td>561.433275</td>\n",
       "    </tr>\n",
       "  </tbody>\n",
       "</table>\n",
       "</div>"
      ],
      "text/plain": [
       "0      Mathematics     Reading     Science\n",
       "count    81.000000   81.000000   81.000000\n",
       "mean    437.628343  435.037609  446.893447\n",
       "std      58.219290   56.104746   55.724806\n",
       "min     336.396041  328.842780  347.104162\n",
       "25%     388.781607  386.284748  403.130242\n",
       "50%     440.845309  438.440625  446.926795\n",
       "75%     483.159455  480.405847  493.549319\n",
       "max     574.663820  542.553322  561.433275"
      ]
     },
     "execution_count": 68,
     "metadata": {},
     "output_type": "execute_result"
    }
   ],
   "source": [
    "pisa_mean_scores.describe()"
   ]
  },
  {
   "cell_type": "code",
   "execution_count": 69,
   "id": "7aa7d608-acec-4f06-9afe-3b7ada49fe04",
   "metadata": {
    "collapsed": true,
    "jupyter": {
     "outputs_hidden": true,
     "source_hidden": true
    },
    "scrolled": true
   },
   "outputs": [
    {
     "data": {
      "text/html": [
       "<div>\n",
       "<style scoped>\n",
       "    .dataframe tbody tr th:only-of-type {\n",
       "        vertical-align: middle;\n",
       "    }\n",
       "\n",
       "    .dataframe tbody tr th {\n",
       "        vertical-align: top;\n",
       "    }\n",
       "\n",
       "    .dataframe thead th {\n",
       "        text-align: right;\n",
       "    }\n",
       "</style>\n",
       "<table border=\"1\" class=\"dataframe\">\n",
       "  <thead>\n",
       "    <tr style=\"text-align: right;\">\n",
       "      <th></th>\n",
       "      <th>Coverage Index 3:Coverage of 15-year-old population</th>\n",
       "      <th>Strength: Percentage of variance in mathematics performance explained by ESCS1</th>\n",
       "      <th>Percentage of disadvantaged students who are academically resilient</th>\n",
       "      <th>Difference between advantaged and disadvantaged students in mathematics</th>\n",
       "    </tr>\n",
       "  </thead>\n",
       "  <tbody>\n",
       "    <tr>\n",
       "      <th>count</th>\n",
       "      <td>80.000000</td>\n",
       "      <td>80.000000</td>\n",
       "      <td>80.000000</td>\n",
       "      <td>80.000000</td>\n",
       "    </tr>\n",
       "    <tr>\n",
       "      <th>mean</th>\n",
       "      <td>0.844518</td>\n",
       "      <td>13.046059</td>\n",
       "      <td>11.418396</td>\n",
       "      <td>79.666230</td>\n",
       "    </tr>\n",
       "    <tr>\n",
       "      <th>std</th>\n",
       "      <td>0.129749</td>\n",
       "      <td>5.418233</td>\n",
       "      <td>2.903373</td>\n",
       "      <td>25.259847</td>\n",
       "    </tr>\n",
       "    <tr>\n",
       "      <th>min</th>\n",
       "      <td>0.362739</td>\n",
       "      <td>1.924552</td>\n",
       "      <td>6.137021</td>\n",
       "      <td>20.974256</td>\n",
       "    </tr>\n",
       "    <tr>\n",
       "      <th>25%</th>\n",
       "      <td>0.790389</td>\n",
       "      <td>9.890195</td>\n",
       "      <td>9.521311</td>\n",
       "      <td>64.878818</td>\n",
       "    </tr>\n",
       "    <tr>\n",
       "      <th>50%</th>\n",
       "      <td>0.884281</td>\n",
       "      <td>13.111244</td>\n",
       "      <td>11.026073</td>\n",
       "      <td>80.999804</td>\n",
       "    </tr>\n",
       "    <tr>\n",
       "      <th>75%</th>\n",
       "      <td>0.928094</td>\n",
       "      <td>16.183913</td>\n",
       "      <td>12.664252</td>\n",
       "      <td>96.677662</td>\n",
       "    </tr>\n",
       "    <tr>\n",
       "      <th>max</th>\n",
       "      <td>1.000000</td>\n",
       "      <td>25.837530</td>\n",
       "      <td>19.554093</td>\n",
       "      <td>133.285128</td>\n",
       "    </tr>\n",
       "  </tbody>\n",
       "</table>\n",
       "</div>"
      ],
      "text/plain": [
       "       Coverage Index 3:Coverage of 15-year-old population  \\\n",
       "count                                          80.000000     \n",
       "mean                                            0.844518     \n",
       "std                                             0.129749     \n",
       "min                                             0.362739     \n",
       "25%                                             0.790389     \n",
       "50%                                             0.884281     \n",
       "75%                                             0.928094     \n",
       "max                                             1.000000     \n",
       "\n",
       "       Strength: Percentage of variance in mathematics performance explained by ESCS1  \\\n",
       "count                                          80.000000                                \n",
       "mean                                           13.046059                                \n",
       "std                                             5.418233                                \n",
       "min                                             1.924552                                \n",
       "25%                                             9.890195                                \n",
       "50%                                            13.111244                                \n",
       "75%                                            16.183913                                \n",
       "max                                            25.837530                                \n",
       "\n",
       "       Percentage of disadvantaged students who are academically resilient  \\\n",
       "count                                          80.000000                     \n",
       "mean                                           11.418396                     \n",
       "std                                             2.903373                     \n",
       "min                                             6.137021                     \n",
       "25%                                             9.521311                     \n",
       "50%                                            11.026073                     \n",
       "75%                                            12.664252                     \n",
       "max                                            19.554093                     \n",
       "\n",
       "       Difference between advantaged and disadvantaged students in mathematics  \n",
       "count                                          80.000000                        \n",
       "mean                                           79.666230                        \n",
       "std                                            25.259847                        \n",
       "min                                            20.974256                        \n",
       "25%                                            64.878818                        \n",
       "50%                                            80.999804                        \n",
       "75%                                            96.677662                        \n",
       "max                                           133.285128                        "
      ]
     },
     "execution_count": 69,
     "metadata": {},
     "output_type": "execute_result"
    }
   ],
   "source": [
    "pisa_socio_economic.describe()"
   ]
  },
  {
   "cell_type": "markdown",
   "id": "bfb9cce0-4ad5-43c3-a811-d2daf8bd91a8",
   "metadata": {},
   "source": [
    "Boxplots"
   ]
  },
  {
   "cell_type": "code",
   "execution_count": 70,
   "id": "141fd2ce-b252-4ed0-a8af-ab7d395d8ebf",
   "metadata": {
    "collapsed": true,
    "jupyter": {
     "outputs_hidden": true,
     "source_hidden": true
    }
   },
   "outputs": [
    {
     "data": {
      "image/png": "[encoded data removed]",
      "text/plain": [
       "<Figure size 1200x400 with 1 Axes>"
      ]
     },
     "metadata": {},
     "output_type": "display_data"
    }
   ],
   "source": [
    "teacher_salary_numeric = ['primary_starting',\n",
    " 'primary_top',\n",
    " 'lower_secondary_starting',\n",
    " 'lower_secondary_top',\n",
    " 'upper_secondary_starting',\n",
    " 'upper_secondary_top']\n",
    "plt.figure(figsize=(12, 4))\n",
    "boxplots = sns.boxplot(data=teacher_salaries[teacher_salary_numeric], orient='h')\n",
    "plt.title('Boxplot of numerical variables, Average Teacher Salaries 2022')\n",
    "plt.show()"
   ]
  },
  {
   "cell_type": "code",
   "execution_count": 71,
   "id": "67199129-c1e7-4fe8-a472-dc616c72bd9e",
   "metadata": {
    "collapsed": true,
    "jupyter": {
     "outputs_hidden": true,
     "source_hidden": true
    }
   },
   "outputs": [
    {
     "data": {
      "image/png": "[encoded data removed]",
      "text/plain": [
       "<Figure size 1200x400 with 1 Axes>"
      ]
     },
     "metadata": {},
     "output_type": "display_data"
    }
   ],
   "source": [
    "average_salary_numeric = ['Monthly_Salary_2022', 'Annual_Salary_2022']\n",
    "plt.figure(figsize=(12, 4))\n",
    "boxplots = sns.boxplot(data=average_salaries[average_salary_numeric], orient='h')\n",
    "plt.title('Boxplot of numerical variables, Average Salaries 2022')\n",
    "plt.show()"
   ]
  },
  {
   "cell_type": "code",
   "execution_count": 72,
   "id": "3e14ea82-6b50-413f-bf03-016323dfc339",
   "metadata": {
    "collapsed": true,
    "jupyter": {
     "outputs_hidden": true,
     "source_hidden": true
    },
    "scrolled": true
   },
   "outputs": [
    {
     "data": {
      "image/png": "[encoded data removed]",
      "text/plain": [
       "<Figure size 1200x400 with 1 Axes>"
      ]
     },
     "metadata": {},
     "output_type": "display_data"
    }
   ],
   "source": [
    "pisa_mean_numeric = ['Mathematics', 'Reading', 'Science']\n",
    "plt.figure(figsize=(12, 4))\n",
    "boxplots = sns.boxplot(data=pisa_mean_scores[pisa_mean_numeric])\n",
    "plt.title('Boxplot of numerical variables, PISA mean scores 2022')\n",
    "plt.show()"
   ]
  },
  {
   "cell_type": "code",
   "execution_count": 73,
   "id": "9303a7ea-943c-4210-8931-cd75695cabc7",
   "metadata": {
    "collapsed": true,
    "jupyter": {
     "outputs_hidden": true,
     "source_hidden": true
    }
   },
   "outputs": [
    {
     "data": {
      "image/png": "[encoded data removed]",
      "text/plain": [
       "<Figure size 1200x400 with 1 Axes>"
      ]
     },
     "metadata": {},
     "output_type": "display_data"
    }
   ],
   "source": [
    "pisa_se_numeric = ['Coverage Index 3:Coverage of 15-year-old population',\n",
    " 'Strength: Percentage of variance in mathematics performance explained by ESCS1',\n",
    " 'Percentage of disadvantaged students who are academically resilient',\n",
    " 'Difference between advantaged and disadvantaged students in mathematics']\n",
    "plt.figure(figsize=(12, 4))\n",
    "boxplots = sns.boxplot(data=pisa_socio_economic[pisa_se_numeric], orient='h')\n",
    "plt.title('Boxplot of numerical variables, PISA score differences by student socio-economic status 2022')\n",
    "plt.show()"
   ]
  },
  {
   "cell_type": "markdown",
   "id": "3a0417eb-c867-40b4-a6b0-88d1ea254b53",
   "metadata": {},
   "source": [
    "Analyse the outliers"
   ]
  },
  {
   "cell_type": "code",
   "execution_count": 74,
   "id": "2f9dbddf-6ae5-415a-8ca8-a14c6a6687b2",
   "metadata": {
    "collapsed": true,
    "jupyter": {
     "outputs_hidden": true,
     "source_hidden": true
    }
   },
   "outputs": [
    {
     "name": "stdout",
     "output_type": "stream",
     "text": [
      "primary_starting\n",
      "Mean value: 34733.882352941175\n",
      "Empty DataFrame\n",
      "Columns: [Country, primary_starting]\n",
      "Index: []\n",
      "----------\n",
      "primary_top\n",
      "Mean value: 59690.87096774193\n",
      "      Country  primary_top\n",
      "0  Luxembourg     126576.0\n",
      "----------\n",
      "lower_secondary_starting\n",
      "Mean value: 35884.05882352941\n",
      "      Country  lower_secondary_starting\n",
      "0  Luxembourg                     81200\n",
      "1     Germany                     77905\n",
      "----------\n",
      "lower_secondary_top\n",
      "Mean value: 61841.74193548387\n",
      "      Country  lower_secondary_top\n",
      "0  Luxembourg             141144.0\n",
      "----------\n",
      "upper_secondary_starting\n",
      "Mean value: 37080.44117647059\n",
      "Empty DataFrame\n",
      "Columns: [Country, upper_secondary_starting]\n",
      "Index: []\n",
      "----------\n",
      "upper_secondary_top\n",
      "Mean value: 63385.06451612903\n",
      "      Country  upper_secondary_top\n",
      "0  Luxembourg             141144.0\n",
      "----------\n"
     ]
    }
   ],
   "source": [
    "for i in teacher_salary_numeric:\n",
    "    Q1 = teacher_salaries[i].quantile(0.25)\n",
    "    Q3 = teacher_salaries[i].quantile(0.75)\n",
    "    IQR = Q3 - Q1\n",
    "    outliers = teacher_salaries[(teacher_salaries[i] < (Q1 - 1.5 * IQR)) | (teacher_salaries[i] > (Q3 + 1.5 * IQR))]\n",
    "    print (i) \n",
    "    print('Mean value:', teacher_salaries[i].mean())\n",
    "    print(outliers.loc[:, ['Country', i]])\n",
    "    print('----------')"
   ]
  },
  {
   "cell_type": "code",
   "execution_count": 75,
   "id": "df093bc5-ec42-497e-ac52-9fcc88bbe5d0",
   "metadata": {
    "collapsed": true,
    "jupyter": {
     "outputs_hidden": true,
     "source_hidden": true
    }
   },
   "outputs": [
    {
     "name": "stdout",
     "output_type": "stream",
     "text": [
      "Monthly_Salary_2022\n",
      "Mean value: 2506.91\n",
      "Empty DataFrame\n",
      "Columns: [Country, Monthly_Salary_2022]\n",
      "Index: []\n",
      "----------\n",
      "Annual_Salary_2022\n",
      "Mean value: 30082.92\n",
      "Empty DataFrame\n",
      "Columns: [Country, Annual_Salary_2022]\n",
      "Index: []\n",
      "----------\n"
     ]
    }
   ],
   "source": [
    "for i in average_salary_numeric:\n",
    "    Q1 = average_salaries[i].quantile(0.25)\n",
    "    Q3 = average_salaries[i].quantile(0.75)\n",
    "    IQR = Q3 - Q1\n",
    "    outliers = average_salaries[(average_salaries[i] < (Q1 - 1.5 * IQR)) | (average_salaries[i] > (Q3 + 1.5 * IQR))]\n",
    "    print (i) \n",
    "    print('Mean value:', average_salaries[i].mean())\n",
    "    print(outliers.loc[:, ['Country', i]])\n",
    "    print('----------')"
   ]
  },
  {
   "cell_type": "code",
   "execution_count": 76,
   "id": "c0ff3052-1830-42c6-ac1e-b17788bc3485",
   "metadata": {
    "collapsed": true,
    "jupyter": {
     "outputs_hidden": true,
     "source_hidden": true
    },
    "scrolled": true
   },
   "outputs": [
    {
     "name": "stdout",
     "output_type": "stream",
     "text": [
      "Mathematics\n",
      "Mean value: 437.62834256282355\n",
      "Empty DataFrame\n",
      "Columns: [Country, Mathematics]\n",
      "Index: []\n",
      "----------\n",
      "Reading\n",
      "Mean value: 435.037608537938\n",
      "Empty DataFrame\n",
      "Columns: [Country, Reading]\n",
      "Index: []\n",
      "----------\n",
      "Science\n",
      "Mean value: 446.89344746541127\n",
      "Empty DataFrame\n",
      "Columns: [Country, Science]\n",
      "Index: []\n",
      "----------\n"
     ]
    }
   ],
   "source": [
    "for i in pisa_mean_numeric:\n",
    "    Q1 = pisa_mean_scores[i].quantile(0.25)\n",
    "    Q3 = pisa_mean_scores[i].quantile(0.75)\n",
    "    IQR = Q3 - Q1\n",
    "    outliers = pisa_mean_scores[(pisa_mean_scores[i] < (Q1 - 1.5 * IQR)) | (pisa_mean_scores[i] > (Q3 + 1.5 * IQR))]\n",
    "    print (i) \n",
    "    print('Mean value:', pisa_mean_scores[i].mean())\n",
    "    print(outliers.loc[:, ['Country', i]])\n",
    "    print('----------')"
   ]
  },
  {
   "cell_type": "code",
   "execution_count": 77,
   "id": "c0c42dde-7979-4930-9f5f-522767c63f74",
   "metadata": {
    "collapsed": true,
    "jupyter": {
     "outputs_hidden": true,
     "source_hidden": true
    },
    "scrolled": true
   },
   "outputs": [
    {
     "name": "stdout",
     "output_type": "stream",
     "text": [
      "Coverage Index 3:Coverage of 15-year-old population\n",
      "Mean value: 0.8445177540183068\n",
      "                         Country  \\\n",
      "0                       Cambodia   \n",
      "25                     Guatemala   \n",
      "64                        Panama   \n",
      "80  Ukrainian regions (18 of 27)   \n",
      "\n",
      "    Coverage Index 3:Coverage of 15-year-old population  \n",
      "0                                            0.362739    \n",
      "25                                           0.477004    \n",
      "64                                           0.576539    \n",
      "80                                           0.415615    \n",
      "----------\n",
      "Strength: Percentage of variance in mathematics performance explained by ESCS1\n",
      "Mean value: 13.046058796789248\n",
      "     Country  \\\n",
      "70  Slovakia   \n",
      "71   Romania   \n",
      "\n",
      "    Strength: Percentage of variance in mathematics performance explained by ESCS1  \n",
      "70                                          25.715808                               \n",
      "71                                          25.837530                               \n",
      "----------\n",
      "Percentage of disadvantaged students who are academically resilient\n",
      "Mean value: 11.418396289022416\n",
      "       Country  \\\n",
      "0     Cambodia   \n",
      "1   Uzbekistan   \n",
      "76      Kosovo   \n",
      "\n",
      "    Percentage of disadvantaged students who are academically resilient  \n",
      "0                                           18.217807                    \n",
      "1                                           19.554093                    \n",
      "76                                          17.700395                    \n",
      "----------\n",
      "Difference between advantaged and disadvantaged students in mathematics\n",
      "Mean value: 79.6662300487613\n",
      "Empty DataFrame\n",
      "Columns: [Country, Difference between advantaged and disadvantaged students in mathematics]\n",
      "Index: []\n",
      "----------\n"
     ]
    }
   ],
   "source": [
    "for i in pisa_se_numeric:\n",
    "    Q1 = pisa_socio_economic[i].quantile(0.25)\n",
    "    Q3 = pisa_socio_economic[i].quantile(0.75)\n",
    "    IQR = Q3 - Q1\n",
    "    outliers = pisa_socio_economic[(pisa_socio_economic[i] < (Q1 - 1.5 * IQR)) | (pisa_socio_economic[i] > (Q3 + 1.5 * IQR))]\n",
    "    print (i) \n",
    "    print('Mean value:', pisa_socio_economic[i].mean())\n",
    "    print(outliers.loc[:, ['Country', i]])\n",
    "    print('----------')"
   ]
  },
  {
   "cell_type": "markdown",
   "id": "786bdb82-9137-4aae-867d-669d78aa8a0d",
   "metadata": {},
   "source": [
    "Bar charts"
   ]
  },
  {
   "cell_type": "code",
   "execution_count": 78,
   "id": "f6ed2dd5-d8db-48f9-a2e1-1e2153b4bc9c",
   "metadata": {
    "collapsed": true,
    "jupyter": {
     "outputs_hidden": true,
     "source_hidden": true
    }
   },
   "outputs": [
    {
     "data": {
      "text/html": [
       "<div>\n",
       "<style scoped>\n",
       "    .dataframe tbody tr th:only-of-type {\n",
       "        vertical-align: middle;\n",
       "    }\n",
       "\n",
       "    .dataframe tbody tr th {\n",
       "        vertical-align: top;\n",
       "    }\n",
       "\n",
       "    .dataframe thead th {\n",
       "        text-align: right;\n",
       "    }\n",
       "</style>\n",
       "<table border=\"1\" class=\"dataframe\">\n",
       "  <thead>\n",
       "    <tr style=\"text-align: right;\">\n",
       "      <th></th>\n",
       "      <th>flagCode</th>\n",
       "      <th>Country</th>\n",
       "      <th>primary_starting</th>\n",
       "      <th>primary_top</th>\n",
       "      <th>lower_secondary_starting</th>\n",
       "      <th>lower_secondary_top</th>\n",
       "      <th>upper_secondary_starting</th>\n",
       "      <th>upper_secondary_top</th>\n",
       "    </tr>\n",
       "  </thead>\n",
       "  <tbody>\n",
       "    <tr>\n",
       "      <th>0</th>\n",
       "      <td>LU</td>\n",
       "      <td>Luxembourg</td>\n",
       "      <td>71647</td>\n",
       "      <td>126576.0</td>\n",
       "      <td>81200</td>\n",
       "      <td>141144.0</td>\n",
       "      <td>81200</td>\n",
       "      <td>141144.0</td>\n",
       "    </tr>\n",
       "    <tr>\n",
       "      <th>1</th>\n",
       "      <td>DE</td>\n",
       "      <td>Germany</td>\n",
       "      <td>70419</td>\n",
       "      <td>91713.0</td>\n",
       "      <td>77905</td>\n",
       "      <td>101510.0</td>\n",
       "      <td>81141</td>\n",
       "      <td>110694.0</td>\n",
       "    </tr>\n",
       "    <tr>\n",
       "      <th>2</th>\n",
       "      <td>DK</td>\n",
       "      <td>Denmark</td>\n",
       "      <td>53364</td>\n",
       "      <td>61473.0</td>\n",
       "      <td>53598</td>\n",
       "      <td>61968.0</td>\n",
       "      <td>50444</td>\n",
       "      <td>65555.0</td>\n",
       "    </tr>\n",
       "    <tr>\n",
       "      <th>3</th>\n",
       "      <td>AT</td>\n",
       "      <td>Austria</td>\n",
       "      <td>49646</td>\n",
       "      <td>86526.0</td>\n",
       "      <td>49646</td>\n",
       "      <td>92041.0</td>\n",
       "      <td>49646</td>\n",
       "      <td>102120.0</td>\n",
       "    </tr>\n",
       "    <tr>\n",
       "      <th>4</th>\n",
       "      <td>NL</td>\n",
       "      <td>Netherlands</td>\n",
       "      <td>48805</td>\n",
       "      <td>99715.0</td>\n",
       "      <td>48662</td>\n",
       "      <td>99717.0</td>\n",
       "      <td>48662</td>\n",
       "      <td>99717.0</td>\n",
       "    </tr>\n",
       "  </tbody>\n",
       "</table>\n",
       "</div>"
      ],
      "text/plain": [
       "  flagCode      Country  primary_starting  primary_top  \\\n",
       "0       LU   Luxembourg             71647     126576.0   \n",
       "1       DE      Germany             70419      91713.0   \n",
       "2       DK      Denmark             53364      61473.0   \n",
       "3       AT      Austria             49646      86526.0   \n",
       "4       NL  Netherlands             48805      99715.0   \n",
       "\n",
       "   lower_secondary_starting  lower_secondary_top  upper_secondary_starting  \\\n",
       "0                     81200             141144.0                     81200   \n",
       "1                     77905             101510.0                     81141   \n",
       "2                     53598              61968.0                     50444   \n",
       "3                     49646              92041.0                     49646   \n",
       "4                     48662              99717.0                     48662   \n",
       "\n",
       "   upper_secondary_top  \n",
       "0             141144.0  \n",
       "1             110694.0  \n",
       "2              65555.0  \n",
       "3             102120.0  \n",
       "4              99717.0  "
      ]
     },
     "execution_count": 78,
     "metadata": {},
     "output_type": "execute_result"
    }
   ],
   "source": [
    "teacher_salaries.head()"
   ]
  },
  {
   "cell_type": "code",
   "execution_count": 86,
   "id": "ef9198e2-95cc-4d04-bbab-68f9694f1437",
   "metadata": {
    "jupyter": {
     "source_hidden": true
    }
   },
   "outputs": [],
   "source": [
    "from PIL import Image\n",
    "import io\n",
    "import requests"
   ]
  },
  {
   "cell_type": "code",
   "execution_count": 100,
   "id": "30604b2c-ceca-49aa-9d36-d375bcafb3f2",
   "metadata": {
    "collapsed": true,
    "jupyter": {
     "outputs_hidden": true,
     "source_hidden": true
    },
    "scrolled": true
   },
   "outputs": [
    {
     "data": {
      "image/png": "[encoded data removed]",
      "text/plain": [
       "<Figure size 800x1000 with 1 Axes>"
      ]
     },
     "metadata": {},
     "output_type": "display_data"
    }
   ],
   "source": [
    "import requests\n",
    "import io\n",
    "from PIL import Image\n",
    "import matplotlib.pyplot as plt\n",
    "from matplotlib.offsetbox import OffsetImage, AnnotationBbox\n",
    "\n",
    "# Plot\n",
    "plt.figure(figsize=(8,10))\n",
    "plt.barh(teacher_salaries['Country'], teacher_salaries['primary_starting'], label='Starting Salary', color='#3a2d8b')\n",
    "plt.barh(teacher_salaries['Country'], teacher_salaries['primary_top'], left=teacher_salaries['primary_starting'], label='Top Salary', color='purple')\n",
    "\n",
    "# Labels & Title\n",
    "plt.xlabel('Salary ($)')\n",
    "plt.ylabel('Country')\n",
    "plt.title('Primary Teacher Starting vs Top Salary by Country')\n",
    "plt.legend()\n",
    "\n",
    "# Show the plot\n",
    "plt.show()"
   ]
  },
  {
   "cell_type": "code",
   "execution_count": 102,
   "id": "d2715a33-4062-4bd6-a730-318e0096a8df",
   "metadata": {
    "collapsed": true,
    "jupyter": {
     "outputs_hidden": true
    },
    "scrolled": true
   },
   "outputs": [
    {
     "name": "stdout",
     "output_type": "stream",
     "text": [
      "No country name found for Luxembourg\n",
      "No country name found for Germany\n",
      "No country name found for Denmark\n",
      "No country name found for Austria\n",
      "No country name found for Netherlands\n",
      "No country name found for Australia\n",
      "No country name found for Turkey\n",
      "No country name found for United States\n",
      "No country name found for Spain\n",
      "No country name found for Norway\n",
      "No country name found for Canada\n",
      "No country name found for Finland\n",
      "No country name found for Ireland\n",
      "No country name found for New Zealand\n",
      "No country name found for France\n",
      "No country name found for Portugal\n",
      "No country name found for South Korea\n",
      "No country name found for Lithuania\n",
      "No country name found for Italy\n",
      "No country name found for Slovenia\n",
      "No country name found for Japan\n",
      "No country name found for Czech Republic\n",
      "No country name found for Estonia\n",
      "No country name found for Chile\n",
      "No country name found for Costa Rica\n",
      "No country name found for Israel\n",
      "No country name found for Romania\n",
      "No country name found for Mexico\n",
      "No country name found for Greece\n",
      "No country name found for Brazil\n",
      "No country name found for Poland\n",
      "No country name found for Latvia\n",
      "No country name found for Slovakia\n",
      "No country name found for Hungary\n"
     ]
    },
    {
     "data": {
      "image/png": "[encoded data removed]",
      "text/plain": [
       "<Figure size 800x1000 with 1 Axes>"
      ]
     },
     "metadata": {},
     "output_type": "display_data"
    }
   ],
   "source": [
    "import requests\n",
    "import io\n",
    "from PIL import Image\n",
    "import matplotlib.pyplot as plt\n",
    "from matplotlib.offsetbox import OffsetImage, AnnotationBbox\n",
    "\n",
    "# Assuming 'teacher_salaries' DataFrame and 'country_flags' dictionary are already defined\n",
    "# country_flags dictionary should map country names to flag URLs\n",
    "\n",
    "# Plot\n",
    "plt.figure(figsize=(8, 10))\n",
    "plt.barh(teacher_salaries['Country'], teacher_salaries['primary_starting'], label='Starting Salary', color='#3a2d8b')\n",
    "plt.barh(teacher_salaries['Country'], teacher_salaries['primary_top'], left=teacher_salaries['primary_starting'], label='Top Salary', color='purple')\n",
    "\n",
    "# Labels & Title\n",
    "plt.xlabel('Salary ($)')\n",
    "plt.ylabel('Country')\n",
    "plt.title('Primary Teacher Starting vs Top Salary by Country')\n",
    "plt.legend()\n",
    "\n",
    "# Adding flags next to country names\n",
    "for i, country in enumerate(teacher_salaries['Country']):\n",
    "    # Using the country name to find the URL of the flag\n",
    "    country_name = country_data.get(country)\n",
    "    if country_name:\n",
    "        flag_url = country_flags.get(country_name)\n",
    "        \n",
    "        if flag_url:\n",
    "            try:\n",
    "                response = requests.get(flag_url)\n",
    "                img = Image.open(io.BytesIO(response.content))\n",
    "                \n",
    "                # Resize image to fit next to the label\n",
    "                img = img.resize((2, 2))  # Adjust size as needed\n",
    "\n",
    "                # Create OffsetImage with the resized flag image\n",
    "                imagebox = OffsetImage(img, zoom=1, clip_path=None)\n",
    "\n",
    "                # Create AnnotationBbox to place the image at the right position\n",
    "                ab = AnnotationBbox(imagebox, (teacher_salaries['primary_starting'][i] + teacher_salaries['primary_top'][i] + 2000, i),\n",
    "                                    frameon=False, xycoords='data', boxcoords=\"offset points\", boxalignment=\"center\", pad=0.5)\n",
    "\n",
    "                # Add the flag image to the plot\n",
    "                plt.gca().add_artist(ab)\n",
    "            except requests.exceptions.RequestException as e:\n",
    "                print(f\"Error fetching flag for {country_name}: {e}\")\n",
    "        else:\n",
    "            print(f\"No flag URL found for {country_name}\")\n",
    "    else:\n",
    "        print(f\"No country name found for {country}\")\n",
    "\n",
    "# Show the plot\n",
    "plt.show()"
   ]
  },
  {
   "cell_type": "code",
   "execution_count": 101,
   "id": "95739afb-476d-4066-9fa3-ed0796320f50",
   "metadata": {},
   "outputs": [
    {
     "name": "stdout",
     "output_type": "stream",
     "text": [
      "/Users/beejalparekh/Desktop/Bootcamp/_DA_course/_DA-project_/flags/es.svg\n"
     ]
    }
   ],
   "source": [
    "print(get_flag_file('Spain'))"
   ]
  },
  {
   "cell_type": "code",
   "execution_count": null,
   "id": "c3ace317-40fd-45a9-945a-208fd04e27f0",
   "metadata": {},
   "outputs": [],
   "source": []
  }
 ],
 "metadata": {
  "kernelspec": {
   "display_name": "Python 3 (ipykernel)",
   "language": "python",
   "name": "python3"
  },
  "language_info": {
   "codemirror_mode": {
    "name": "ipython",
    "version": 3
   },
   "file_extension": ".py",
   "mimetype": "text/x-python",
   "name": "python",
   "nbconvert_exporter": "python",
   "pygments_lexer": "ipython3",
   "version": "3.12.4"
  }
 },
 "nbformat": 4,
 "nbformat_minor": 5
}
